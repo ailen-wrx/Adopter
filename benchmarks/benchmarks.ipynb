{
 "cells": [
  {
   "cell_type": "code",
   "execution_count": 1,
   "metadata": {},
   "outputs": [
    {
     "name": "stdout",
     "output_type": "stream",
     "text": [
      "Pytorch version\t: 2.0.1+cu117\n",
      "PyTorch CUDA version\t: 11.7\n"
     ]
    },
    {
     "name": "stdout",
     "output_type": "stream",
     "text": [
      "GPU0\t\t: Tesla T4\n"
     ]
    }
   ],
   "source": [
    "import utils\n",
    "from IPython.display import clear_output\n",
    "import os\n",
    "import torch\n",
    "from time import sleep\n",
    "\n",
    "!pip install datasets evaluate accelerate deepspeed psutil pybind11 huggingface_hub\n",
    "\n",
    "clear_output()\n",
    "\n",
    "print('Pytorch version\\t:', torch.__version__)\n",
    "print('PyTorch CUDA version\\t:', torch.version.cuda)\n",
    "\n",
    "for i in range(torch.cuda.device_count()):\n",
    "    print(f'GPU{i}\\t\\t:',torch.cuda.get_device_name(i))"
   ]
  },
  {
   "cell_type": "code",
   "execution_count": 2,
   "metadata": {},
   "outputs": [],
   "source": [
    "try:\n",
    "    import apex\n",
    "except ImportError:\n",
    "    print(\"Installing apex\")\n",
    "    !git clone https://github.com/NVIDIA/apex.git || true\n",
    "    clear_output()\n",
    "\n",
    "    !cd apex; git checkout 2386a912164b0c5cfcd8be7a2b890fbac5607c82; python setup.py install --cuda_ext --cpp_ext "
   ]
  },
  {
   "cell_type": "code",
   "execution_count": 3,
   "metadata": {},
   "outputs": [
    {
     "name": "stdout",
     "output_type": "stream",
     "text": [
      "\u001b[31mHEAD detached at \u001b[mef42cb627\n",
      "Changes not staged for commit:\n",
      "  (use \"git add <file>...\" to update what will be committed)\n",
      "  (use \"git restore <file>...\" to discard changes in working directory)\n",
      "\t\u001b[31mmodified:   examples/pytorch/contrastive-image-text/run_clip.py\u001b[m\n",
      "\t\u001b[31mmodified:   examples/pytorch/image-classification/run_image_classification.py\u001b[m\n",
      "\t\u001b[31mmodified:   src/transformers/trainer.py\u001b[m\n",
      "\t\u001b[31mmodified:   src/transformers/trainer_pt_utils.py\u001b[m\n",
      "\n",
      "Untracked files:\n",
      "  (use \"git add <file>...\" to include in what will be committed)\n",
      "\t\u001b[31m5.patch\u001b[m\n",
      "\t\u001b[31mbeans_outputs/\u001b[m\n",
      "\t\u001b[31mbenchmark.patch\u001b[m\n",
      "\t\u001b[31mdummy_data/\u001b[m\n",
      "\t\u001b[31mlog.txt\u001b[m\n",
      "\t\u001b[31mpatches/\u001b[m\n",
      "\t\u001b[31msrc/transformers/models/bert/modeling_bert.py.rej\u001b[m\n",
      "\t\u001b[31msrc/transformers/models/groupvit/modeling_groupvit.py.rej\u001b[m\n",
      "\n",
      "no changes added to commit (use \"git add\" and/or \"git commit -a\")\n",
      "Looking in indexes: https://pypi.org/simple, https://pypi.ngc.nvidia.com\n",
      "Obtaining file:///home/ubuntu/pytorch-opt/transformers-benchmarks/transformers\n",
      "  Installing build dependencies ... \u001b[?25ldone\n",
      "\u001b[?25h  Checking if build backend supports build_editable ... \u001b[?25ldone\n",
      "\u001b[?25h  Getting requirements to build editable ... \u001b[?25ldone\n",
      "\u001b[?25h  Preparing editable metadata (pyproject.toml) ... \u001b[?25ldone\n",
      "\u001b[?25hChecking if build backend supports build_editable ... \u001b[?25ldone\n",
      "\u001b[?25hBuilding wheels for collected packages: transformers\n",
      "  Building editable for transformers (pyproject.toml) ... \u001b[?25ldone\n",
      "\u001b[?25h  Created wheel for transformers: filename=transformers-4.35.0.dev0-0.editable-py3-none-any.whl size=39648 sha256=7959d3f635ea4e5aad76275a7276eeb4e3f19152cea95485471d04942fdc7a4a\n",
      "  Stored in directory: /tmp/pip-ephem-wheel-cache-in9_7qle/wheels/ff/45/5c/7c76fee02a26cf2de16413981fa7761b1977c4b992c5ee1fb2\n",
      "Successfully built transformers\n",
      "Installing collected packages: transformers\n",
      "  Attempting uninstall: transformers\n",
      "    Found existing installation: transformers 4.35.0.dev0\n",
      "    Uninstalling transformers-4.35.0.dev0:\n",
      "      Successfully uninstalled transformers-4.35.0.dev0\n",
      "Successfully installed transformers-4.35.0.dev0\n"
     ]
    }
   ],
   "source": [
    "!cd transformers; git stash; git checkout ef42cb62744e2be04f5b41b7e36dd1d609734675\n",
    "clear_output()\n",
    "\n",
    "!cd transformers; git apply patches/trainer.patch; git status\n",
    "\n",
    "# Install the changed transformers without checking dependencies (otherwise it may ruin your PyTorch setting...)\n",
    "!cd transformers; pip install -e \".[dev]\" --no-deps\n",
    "\n",
    "from utils import hf, Exp, compare"
   ]
  },
  {
   "cell_type": "code",
   "execution_count": 4,
   "metadata": {},
   "outputs": [],
   "source": [
    "def build_package(name, url):\n",
    "    import importlib\n",
    "    import os, sys\n",
    "    if importlib.util.find_spec(name) is None:\n",
    "        os.system(f\"git clone {url} {name} || true\")\n",
    "        os.system(f\"cd {name}; git submodule update --init --recursive\")\n",
    "        os.system(f\"cd {name}; pip3 install -r requirements.txt || true\")\n",
    "        os.system(f'cd {name}; pip3 install -e \".[dev]\"') \n",
    "\n",
    "build_package(\"xformers\", \"https://github.com/facebookresearch/xformers.git\")\n",
    "build_package(\"epoi\", \"https://github.com/comaniac/epoi.git\")"
   ]
  },
  {
   "cell_type": "markdown",
   "metadata": {},
   "source": [
    "## Bert"
   ]
  },
  {
   "cell_type": "code",
   "execution_count": 5,
   "metadata": {},
   "outputs": [
    {
     "name": "stdout",
     "output_type": "stream",
     "text": [
      "Running command: export CUDA_VISIBLE_DEVICES=0; torchrun --nproc_per_node 1 transformers/examples/pytorch/language-modeling/run_mlm.py --config_name bert-large-uncased --tokenizer_name bert-large-uncased --dataset_name wikitext --dataset_config_name wikitext-2-raw-v1 --do_train --max_seq_length 512 --per_device_train_batch_size 8 --fp16 True --bf16 False --optim adamw_hf --max_steps 20 --gradient_accumulation_steps 1 --gradient_checkpointing False --output_dir /tmp/bert/ --overwrite_output_dir yes --skip_memory_metrics False --half_precision_backend=apex --fp16_opt_level=O2 > log/log_bert-vanilla.txt 2>&1\n",
      "Output: \n",
      "Total samples / second\t: 9.4\n",
      "Per GPU memory (GB)\t: 14.1\n",
      "Per GPU TFLOPs\t\t: 10.4\n"
     ]
    }
   ],
   "source": [
    "bert_8_vanilla = hf(Exp('bert-vanilla', 'bert-large-uncased', 8, fp16=True,\n",
    "                    kwargs={\"flags\": [\"--half_precision_backend=apex\", \"--fp16_opt_level=O2\"]}))\n",
    "sleep(5)"
   ]
  },
  {
   "cell_type": "code",
   "execution_count": 6,
   "metadata": {},
   "outputs": [
    {
     "name": "stdout",
     "output_type": "stream",
     "text": [
      "Running command: cd /home/ubuntu/pytorch-opt/transformers-benchmarks/transformers; git stash push -- src/transformers/models/; git apply patches/bert_softmax.patch; git diff src/transformers/models/\n",
      "Output: No local changes to save\n",
      "diff --git a/src/transformers/models/bert/modeling_bert.py b/src/transformers/models/bert/modeling_bert.py\n",
      "index 1b0fad3f9..d19be46d3 100755\n",
      "--- a/src/transformers/models/bert/modeling_bert.py\n",
      "+++ b/src/transformers/models/bert/modeling_bert.py\n",
      "@@ -51,6 +51,11 @@ from ...utils import (\n",
      " )\n",
      " from .configuration_bert import BertConfig\n",
      " \n",
      "+try:\n",
      "+    from xformers.triton.softmax import softmax as xformers_softmax\n",
      "+except ImportError:\n",
      "+    xformers_softmax = None\n",
      "+\n",
      " \n",
      " logger = logging.get_logger(__name__)\n",
      " \n",
      "@@ -352,7 +357,8 @@ class BertSelfAttention(nn.Module):\n",
      "             attention_scores = attention_scores + attention_mask\n",
      " \n",
      "         # Normalize the attention scores to probabilities.\n",
      "-        attention_probs = nn.functional.softmax(attention_scores, dim=-1)\n",
      "+        from xformers.triton.softmax import softmax\n",
      "+        attention_probs = softmax(attention_scores)\n",
      " \n",
      "         # This is actually dropping out entire tokens to attend to, which might\n",
      "         # seem a bit unusual, but is taken from the original Transformer paper.\n",
      "\n",
      "Running command: export CUDA_VISIBLE_DEVICES=0; torchrun --nproc_per_node 1 transformers/examples/pytorch/language-modeling/run_mlm.py --config_name bert-large-uncased --tokenizer_name bert-large-uncased --dataset_name wikitext --dataset_config_name wikitext-2-raw-v1 --do_train --max_seq_length 512 --per_device_train_batch_size 8 --fp16 True --bf16 False --optim adamw_hf --max_steps 20 --gradient_accumulation_steps 1 --gradient_checkpointing False --output_dir /tmp/bert/ --overwrite_output_dir yes --skip_memory_metrics False --half_precision_backend=apex --fp16_opt_level=O2 > log/log_bert-softmax.txt 2>&1\n",
      "Output: \n",
      "Total samples / second\t: 8.8\n",
      "Per GPU memory (GB)\t: 14.4\n",
      "Per GPU TFLOPs\t\t: 9.6\n"
     ]
    }
   ],
   "source": [
    "bert_8_softmax = hf(Exp('bert-softmax', 'bert-large-uncased', 8, fp16=True, patch='patches/bert_softmax.patch',\n",
    "                    kwargs={\"flags\": [\"--half_precision_backend=apex\", \"--fp16_opt_level=O2\"]}))\n",
    "sleep(5)"
   ]
  },
  {
   "cell_type": "code",
   "execution_count": 7,
   "metadata": {},
   "outputs": [
    {
     "name": "stdout",
     "output_type": "stream",
     "text": [
      "Running command: cd /home/ubuntu/pytorch-opt/transformers-benchmarks/transformers; git stash push -- src/transformers/models/; git apply patches/bert_biasgelu.patch; git diff src/transformers/models/\n",
      "Output: Saved working directory and index state WIP on (no branch): ef42cb627 Fix TensorFlow pakage check (#26842)\n",
      "diff --git a/src/transformers/models/bert/modeling_bert.py b/src/transformers/models/bert/modeling_bert.py\n",
      "index 1b0fad3f9..b49bd5ede 100755\n",
      "--- a/src/transformers/models/bert/modeling_bert.py\n",
      "+++ b/src/transformers/models/bert/modeling_bert.py\n",
      "@@ -442,10 +442,10 @@ class BertIntermediate(nn.Module):\n",
      "     def __init__(self, config):\n",
      "         super().__init__()\n",
      "         self.dense = nn.Linear(config.hidden_size, config.intermediate_size)\n",
      "-        if isinstance(config.hidden_act, str):\n",
      "-            self.intermediate_act_fn = ACT2FN[config.hidden_act]\n",
      "-        else:\n",
      "-            self.intermediate_act_fn = config.hidden_act\n",
      "+        from epoi.ops.torchscript_ops import FusedBiasGELU\n",
      "+        self.dense = nn.Linear(config.hidden_size, config.intermediate_size, bias=False)\n",
      "+        assert config.hidden_act == \"gelu\"\n",
      "+        self.intermediate_act_fn = FusedBiasGELU(config.intermediate_size, prev_weight=self.dense.weight)\n",
      " \n",
      "     def forward(self, hidden_states: torch.Tensor) -> torch.Tensor:\n",
      "         hidden_states = self.dense(hidden_states)\n",
      "\n",
      "Running command: export CUDA_VISIBLE_DEVICES=0; torchrun --nproc_per_node 1 transformers/examples/pytorch/language-modeling/run_mlm.py --config_name bert-large-uncased --tokenizer_name bert-large-uncased --dataset_name wikitext --dataset_config_name wikitext-2-raw-v1 --do_train --max_seq_length 512 --per_device_train_batch_size 8 --fp16 True --bf16 False --optim adamw_hf --max_steps 20 --gradient_accumulation_steps 1 --gradient_checkpointing False --output_dir /tmp/bert/ --overwrite_output_dir yes --skip_memory_metrics False --half_precision_backend=apex --fp16_opt_level=O2 > log/log_bert-biasgelu.txt 2>&1\n",
      "Output: \n",
      "Total samples / second\t: 9.9\n",
      "Per GPU memory (GB)\t: 12.9\n",
      "Per GPU TFLOPs\t\t: 10.9\n"
     ]
    }
   ],
   "source": [
    "bert_8_biasgelu = hf(Exp('bert-biasgelu', 'bert-large-uncased', 8, fp16=True, patch='patches/bert_biasgelu.patch',\n",
    "                    kwargs={\"flags\": [\"--half_precision_backend=apex\", \"--fp16_opt_level=O2\"]}))\n",
    "sleep(5)"
   ]
  },
  {
   "cell_type": "code",
   "execution_count": 8,
   "metadata": {},
   "outputs": [
    {
     "name": "stdout",
     "output_type": "stream",
     "text": [
      "Running command: cd /home/ubuntu/pytorch-opt/transformers-benchmarks/transformers; git stash push -- src/transformers/models/; git apply patches/bert_dropoutlayernorm.patch; git diff src/transformers/models/\n",
      "Output: Saved working directory and index state WIP on (no branch): ef42cb627 Fix TensorFlow pakage check (#26842)\n",
      "diff --git a/src/transformers/models/bert/modeling_bert.py b/src/transformers/models/bert/modeling_bert.py\n",
      "index 1b0fad3f9..5482bdf71 100755\n",
      "--- a/src/transformers/models/bert/modeling_bert.py\n",
      "+++ b/src/transformers/models/bert/modeling_bert.py\n",
      "@@ -379,13 +379,13 @@ class BertSelfOutput(nn.Module):\n",
      "     def __init__(self, config):\n",
      "         super().__init__()\n",
      "         self.dense = nn.Linear(config.hidden_size, config.hidden_size)\n",
      "-        self.LayerNorm = nn.LayerNorm(config.hidden_size, eps=config.layer_norm_eps)\n",
      "-        self.dropout = nn.Dropout(config.hidden_dropout_prob)\n",
      "+        from epoi.ops.torchscript_ops import FusedDropoutAddLayerNorm\n",
      "+        self.dropout_add_layernorm = FusedDropoutAddLayerNorm(config.hidden_size,\n",
      "+            config.hidden_dropout_prob, eps=config.layer_norm_eps)\n",
      " \n",
      "     def forward(self, hidden_states: torch.Tensor, input_tensor: torch.Tensor) -> torch.Tensor:\n",
      "         hidden_states = self.dense(hidden_states)\n",
      "-        hidden_states = self.dropout(hidden_states)\n",
      "-        hidden_states = self.LayerNorm(hidden_states + input_tensor)\n",
      "+        hidden_states = self.dropout_add_layernorm(hidden_states, input_tensor)\n",
      "         return hidden_states\n",
      " \n",
      " \n",
      "\n",
      "Running command: export CUDA_VISIBLE_DEVICES=0; torchrun --nproc_per_node 1 transformers/examples/pytorch/language-modeling/run_mlm.py --config_name bert-large-uncased --tokenizer_name bert-large-uncased --dataset_name wikitext --dataset_config_name wikitext-2-raw-v1 --do_train --max_seq_length 512 --per_device_train_batch_size 8 --fp16 True --bf16 False --optim adamw_hf --max_steps 20 --gradient_accumulation_steps 1 --gradient_checkpointing False --output_dir /tmp/bert/ --overwrite_output_dir yes --skip_memory_metrics False --half_precision_backend=apex --fp16_opt_level=O2 > log/log_bert-dropoutlayernorm.txt 2>&1\n",
      "Output: \n",
      "Total samples / second\t: 9.2\n",
      "Per GPU memory (GB)\t: 14.1\n",
      "Per GPU TFLOPs\t\t: 10.1\n"
     ]
    }
   ],
   "source": [
    "bert_8_dropoutlayernorm = hf(Exp('bert-dropoutlayernorm', 'bert-large-uncased', 8, fp16=True, patch='patches/bert_dropoutlayernorm.patch',\n",
    "                    kwargs={\"flags\": [\"--half_precision_backend=apex\", \"--fp16_opt_level=O2\"]}))\n",
    "sleep(5)"
   ]
  },
  {
   "cell_type": "code",
   "execution_count": 9,
   "metadata": {},
   "outputs": [
    {
     "name": "stdout",
     "output_type": "stream",
     "text": [
      "Running command: cd /home/ubuntu/pytorch-opt/transformers-benchmarks/transformers; git stash push -- src/transformers/models/; git apply patches/bert_attention.patch; git diff src/transformers/models/\n",
      "Output: Saved working directory and index state WIP on (no branch): ef42cb627 Fix TensorFlow pakage check (#26842)\n",
      "diff --git a/src/transformers/models/bert/modeling_bert.py b/src/transformers/models/bert/modeling_bert.py\n",
      "index 1b0fad3f9..5b0b61ce4 100755\n",
      "--- a/src/transformers/models/bert/modeling_bert.py\n",
      "+++ b/src/transformers/models/bert/modeling_bert.py\n",
      "@@ -392,7 +392,8 @@ class BertSelfOutput(nn.Module):\n",
      " class BertAttention(nn.Module):\n",
      "     def __init__(self, config, position_embedding_type=None):\n",
      "         super().__init__()\n",
      "-        self.self = BertSelfAttention(config, position_embedding_type=position_embedding_type)\n",
      "+        from epoi.ops.xformers_attn import BertSelfAttentionWithXF as xFormersBertSelfAttention\n",
      "+        self.self = xFormersBertSelfAttention(config, position_embedding_type=position_embedding_type, attn_op_name=\"cutlass\")\n",
      "         self.output = BertSelfOutput(config)\n",
      "         self.pruned_heads = set()\n",
      " \n",
      "\n",
      "Running command: export CUDA_VISIBLE_DEVICES=0; torchrun --nproc_per_node 1 transformers/examples/pytorch/language-modeling/run_mlm.py --config_name bert-large-uncased --tokenizer_name bert-large-uncased --dataset_name wikitext --dataset_config_name wikitext-2-raw-v1 --do_train --max_seq_length 512 --per_device_train_batch_size 8 --fp16 True --bf16 False --optim adamw_hf --max_steps 20 --gradient_accumulation_steps 1 --gradient_checkpointing False --output_dir /tmp/bert/ --overwrite_output_dir yes --skip_memory_metrics False --half_precision_backend=apex --fp16_opt_level=O2 > log/log_bert-attention.txt 2>&1\n",
      "Output: \n",
      "Total samples / second\t: 11.6\n",
      "Per GPU memory (GB)\t: 11.7\n",
      "Per GPU TFLOPs\t\t: 12.7\n"
     ]
    }
   ],
   "source": [
    "bert_8_attention = hf(Exp('bert-attention', 'bert-large-uncased', 8, fp16=True, patch='patches/bert_attention.patch',\n",
    "                    kwargs={\"flags\": [\"--half_precision_backend=apex\", \"--fp16_opt_level=O2\"]}))\n",
    "sleep(5)"
   ]
  },
  {
   "cell_type": "code",
   "execution_count": 10,
   "metadata": {},
   "outputs": [
    {
     "name": "stdout",
     "output_type": "stream",
     "text": [
      "Running command: cd /home/ubuntu/pytorch-opt/transformers-benchmarks/transformers; git stash push -- src/transformers/models/; git apply patches/bert_all.patch; git diff src/transformers/models/\n",
      "Output: Saved working directory and index state WIP on (no branch): ef42cb627 Fix TensorFlow pakage check (#26842)\n",
      "diff --git a/src/transformers/models/bert/modeling_bert.py b/src/transformers/models/bert/modeling_bert.py\n",
      "index 1b0fad3f9..464737401 100755\n",
      "--- a/src/transformers/models/bert/modeling_bert.py\n",
      "+++ b/src/transformers/models/bert/modeling_bert.py\n",
      "@@ -352,7 +352,8 @@ class BertSelfAttention(nn.Module):\n",
      "             attention_scores = attention_scores + attention_mask\n",
      " \n",
      "         # Normalize the attention scores to probabilities.\n",
      "-        attention_probs = nn.functional.softmax(attention_scores, dim=-1)\n",
      "+        from xformers.triton.softmax import softmax\n",
      "+        attention_probs = softmax(attention_scores)\n",
      " \n",
      "         # This is actually dropping out entire tokens to attend to, which might\n",
      "         # seem a bit unusual, but is taken from the original Transformer paper.\n",
      "@@ -379,20 +380,20 @@ class BertSelfOutput(nn.Module):\n",
      "     def __init__(self, config):\n",
      "         super().__init__()\n",
      "         self.dense = nn.Linear(config.hidden_size, config.hidden_size)\n",
      "-        self.LayerNorm = nn.LayerNorm(config.hidden_size, eps=config.layer_norm_eps)\n",
      "-        self.dropout = nn.Dropout(config.hidden_dropout_prob)\n",
      "+        from epoi.ops.torchscript_ops import FusedDropoutAddLayerNorm\n",
      "+        self.dropout_add_layernorm = FusedDropoutAddLayerNorm(config.hidden_size, config.hidden_dropout_prob, eps=config.layer_norm_eps)\n",
      " \n",
      "     def forward(self, hidden_states: torch.Tensor, input_tensor: torch.Tensor) -> torch.Tensor:\n",
      "         hidden_states = self.dense(hidden_states)\n",
      "-        hidden_states = self.dropout(hidden_states)\n",
      "-        hidden_states = self.LayerNorm(hidden_states + input_tensor)\n",
      "+        hidden_states = self.dropout_add_layernorm(hidden_states, input_tensor)\n",
      "         return hidden_states\n",
      " \n",
      " \n",
      " class BertAttention(nn.Module):\n",
      "     def __init__(self, config, position_embedding_type=None):\n",
      "         super().__init__()\n",
      "-        self.self = BertSelfAttention(config, position_embedding_type=position_embedding_type)\n",
      "+        from epoi.ops.xformers_attn import BertSelfAttentionWithXF\n",
      "+        self.self = BertSelfAttentionWithXF(config, position_embedding_type = position_embedding_type, attn_op_name=\"cutlass\")\n",
      "         self.output = BertSelfOutput(config)\n",
      "         self.pruned_heads = set()\n",
      " \n",
      "@@ -441,11 +442,10 @@ class BertAttention(nn.Module):\n",
      " class BertIntermediate(nn.Module):\n",
      "     def __init__(self, config):\n",
      "         super().__init__()\n",
      "-        self.dense = nn.Linear(config.hidden_size, config.intermediate_size)\n",
      "-        if isinstance(config.hidden_act, str):\n",
      "-            self.intermediate_act_fn = ACT2FN[config.hidden_act]\n",
      "-        else:\n",
      "-            self.intermediate_act_fn = config.hidden_act\n",
      "+        self.dense = nn.Linear(config.hidden_size, config.intermediate_size, bias=False)\n",
      "+        assert config.hidden_act == \"gelu\"\n",
      "+        from epoi.ops.torchscript_ops import FusedBiasGELU\n",
      "+        self.intermediate_act_fn = FusedBiasGELU(config.intermediate_size, prev_weight=self.dense.weight)\n",
      " \n",
      "     def forward(self, hidden_states: torch.Tensor) -> torch.Tensor:\n",
      "         hidden_states = self.dense(hidden_states)\n",
      "@@ -457,13 +457,12 @@ class BertOutput(nn.Module):\n",
      "     def __init__(self, config):\n",
      "         super().__init__()\n",
      "         self.dense = nn.Linear(config.intermediate_size, config.hidden_size)\n",
      "-        self.LayerNorm = nn.LayerNorm(config.hidden_size, eps=config.layer_norm_eps)\n",
      "-        self.dropout = nn.Dropout(config.hidden_dropout_prob)\n",
      "+        from epoi.ops.torchscript_ops import FusedDropoutAddLayerNorm\n",
      "+        self.dropout_add_layernorm = FusedDropoutAddLayerNorm(config.hidden_size, config.hidden_dropout_prob, eps=config.layer_norm_eps)\n",
      " \n",
      "     def forward(self, hidden_states: torch.Tensor, input_tensor: torch.Tensor) -> torch.Tensor:\n",
      "         hidden_states = self.dense(hidden_states)\n",
      "-        hidden_states = self.dropout(hidden_states)\n",
      "-        hidden_states = self.LayerNorm(hidden_states + input_tensor)\n",
      "+        hidden_states = self.dropout_add_layernorm(hidden_states, input_tensor)\n",
      "         return hidden_states\n",
      " \n",
      " \n",
      "\n",
      "Running command: export CUDA_VISIBLE_DEVICES=0; torchrun --nproc_per_node 1 transformers/examples/pytorch/language-modeling/run_mlm.py --config_name bert-large-uncased --tokenizer_name bert-large-uncased --dataset_name wikitext --dataset_config_name wikitext-2-raw-v1 --do_train --max_seq_length 512 --per_device_train_batch_size 8 --fp16 True --bf16 False --optim adamw_hf --max_steps 20 --gradient_accumulation_steps 1 --gradient_checkpointing False --output_dir /tmp/bert/ --overwrite_output_dir yes --skip_memory_metrics False --half_precision_backend=apex --fp16_opt_level=O2 > log/log_bert-all.txt 2>&1\n",
      "Output: \n",
      "Total samples / second\t: 9.6\n",
      "Per GPU memory (GB)\t: 11.7\n",
      "Per GPU TFLOPs\t\t: 10.6\n"
     ]
    }
   ],
   "source": [
    "bert_8_all = hf(Exp('bert-all', 'bert-large-uncased', 8, fp16=True, patch='patches/bert_all.patch',\n",
    "                    kwargs={\"flags\": [\"--half_precision_backend=apex\", \"--fp16_opt_level=O2\"]}))\n",
    "sleep(5)"
   ]
  },
  {
   "cell_type": "code",
   "execution_count": 11,
   "metadata": {},
   "outputs": [
    {
     "name": "stdout",
     "output_type": "stream",
     "text": [
      "Samples / sec: ['9.43', '8.75', '9.88', '9.16', '11.56', '9.61']\n",
      "per GPU TFLOPS: ['10.38', '9.64', '10.87', '10.08', '12.72', '10.58']\n",
      "per GPU memory (GB): ['14.13', '14.40', '12.95', '14.13', '11.72', '11.72']\n"
     ]
    },
    {
     "data": {
      "image/png": "[encoded data removed]",
      "text/plain": [
       "<Figure size 900x300 with 3 Axes>"
      ]
     },
     "metadata": {},
     "output_type": "display_data"
    }
   ],
   "source": [
    "compare([bert_8_vanilla, bert_8_softmax, bert_8_biasgelu, bert_8_dropoutlayernorm, bert_8_attention, bert_8_all], 'bert')"
   ]
  },
  {
   "cell_type": "markdown",
   "metadata": {},
   "source": [
    "## Roberta"
   ]
  },
  {
   "cell_type": "code",
   "execution_count": 12,
   "metadata": {},
   "outputs": [
    {
     "name": "stdout",
     "output_type": "stream",
     "text": [
      "Running command: export CUDA_VISIBLE_DEVICES=0; torchrun --nproc_per_node 1 transformers/examples/pytorch/language-modeling/run_mlm.py --config_name roberta-base --tokenizer_name roberta-base --dataset_name wikitext --dataset_config_name wikitext-2-raw-v1 --do_train --max_seq_length 128 --per_device_train_batch_size 16 --fp16 True --bf16 False --optim adamw_hf --max_steps 20 --gradient_accumulation_steps 1 --gradient_checkpointing False --output_dir /tmp/bert/ --overwrite_output_dir yes --skip_memory_metrics False --half_precision_backend=apex > log/log_roberta-vanilla.txt 2>&1\n",
      "Output: \n",
      "Total samples / second\t: 65.2\n",
      "Per GPU memory (GB)\t: 4.5\n",
      "Per GPU TFLOPs\t\t: 6.3\n"
     ]
    }
   ],
   "source": [
    "roberta_8_vanilla = hf(Exp('roberta-vanilla', 'roberta-base', 16, fp16=True, seq_len=128, \n",
    "                    kwargs={\"flags\": [\"--half_precision_backend=apex\", \"--fp16_opt_level=O2\"]}))\n",
    "sleep(5)"
   ]
  },
  {
   "cell_type": "code",
   "execution_count": 13,
   "metadata": {},
   "outputs": [
    {
     "name": "stdout",
     "output_type": "stream",
     "text": [
      "Running command: cd /home/ubuntu/pytorch-opt/transformers-benchmarks/transformers; git stash push -- src/transformers/models/; git apply patches/roberta_softmax.patch; git diff src/transformers/models/\n",
      "Output: Saved working directory and index state WIP on (no branch): ef42cb627 Fix TensorFlow pakage check (#26842)\n",
      "diff --git a/src/transformers/models/roberta/modeling_roberta.py b/src/transformers/models/roberta/modeling_roberta.py\n",
      "index 6d4cc991d..f40039882 100644\n",
      "--- a/src/transformers/models/roberta/modeling_roberta.py\n",
      "+++ b/src/transformers/models/roberta/modeling_roberta.py\n",
      "@@ -263,7 +263,8 @@ class RobertaSelfAttention(nn.Module):\n",
      "             attention_scores = attention_scores + attention_mask\n",
      " \n",
      "         # Normalize the attention scores to probabilities.\n",
      "-        attention_probs = nn.functional.softmax(attention_scores, dim=-1)\n",
      "+        from xformers.triton.softmax import softmax as softmax_softmax\n",
      "+        attention_probs = softmax_softmax(attention_scores)\n",
      " \n",
      "         # This is actually dropping out entire tokens to attend to, which might\n",
      "         # seem a bit unusual, but is taken from the original Transformer paper.\n",
      "\n",
      "Running command: export CUDA_VISIBLE_DEVICES=0; torchrun --nproc_per_node 1 transformers/examples/pytorch/language-modeling/run_mlm.py --config_name roberta-base --tokenizer_name roberta-base --dataset_name wikitext --dataset_config_name wikitext-2-raw-v1 --do_train --max_seq_length 128 --per_device_train_batch_size 16 --fp16 True --bf16 False --optim adamw_hf --max_steps 20 --gradient_accumulation_steps 1 --gradient_checkpointing False --output_dir /tmp/bert/ --overwrite_output_dir yes --skip_memory_metrics False --half_precision_backend=apex --fp16_opt_level=O2 > log/log_roberta-softmax.txt 2>&1\n",
      "Output: \n",
      "Total samples / second\t: 15.3\n",
      "Per GPU memory (GB)\t: 3.8\n",
      "Per GPU TFLOPs\t\t: 1.5\n"
     ]
    }
   ],
   "source": [
    "roberta_8_softmax = hf(Exp('roberta-softmax', 'roberta-base', 16, fp16=True, seq_len=128, \n",
    "                    patch='patches/roberta_softmax.patch', kwargs={\"flags\": [\"--half_precision_backend=apex\", \"--fp16_opt_level=O2\"]}))\n",
    "sleep(5)"
   ]
  },
  {
   "cell_type": "code",
   "execution_count": 14,
   "metadata": {},
   "outputs": [
    {
     "name": "stdout",
     "output_type": "stream",
     "text": [
      "Running command: cd /home/ubuntu/pytorch-opt/transformers-benchmarks/transformers; git stash push -- src/transformers/models/; git apply patches/roberta_biasgelu.patch; git diff src/transformers/models/\n",
      "Output: Saved working directory and index state WIP on (no branch): ef42cb627 Fix TensorFlow pakage check (#26842)\n",
      "diff --git a/src/transformers/models/roberta/modeling_roberta.py b/src/transformers/models/roberta/modeling_roberta.py\n",
      "index 6d4cc991d..ffcac91c5 100644\n",
      "--- a/src/transformers/models/roberta/modeling_roberta.py\n",
      "+++ b/src/transformers/models/roberta/modeling_roberta.py\n",
      "@@ -355,11 +355,11 @@ class RobertaAttention(nn.Module):\n",
      " class RobertaIntermediate(nn.Module):\n",
      "     def __init__(self, config):\n",
      "         super().__init__()\n",
      "-        self.dense = nn.Linear(config.hidden_size, config.intermediate_size)\n",
      "-        if isinstance(config.hidden_act, str):\n",
      "-            self.intermediate_act_fn = ACT2FN[config.hidden_act]\n",
      "-        else:\n",
      "-            self.intermediate_act_fn = config.hidden_act\n",
      "+        self.dense = torch.nn.Linear(config.hidden_size, config.intermediate_size, bias=False)\n",
      "+        assert (config.hidden_act == 'gelu')\n",
      "+        from epoi.ops.torchscript_ops import FusedBiasGELU as torchscript_ops_FusedBiasGELU\n",
      "+        self.intermediate_act_fn = torchscript_ops_FusedBiasGELU(config.intermediate_size, prev_weight=self.dense.weight)\n",
      "+\n",
      " \n",
      "     def forward(self, hidden_states: torch.Tensor) -> torch.Tensor:\n",
      "         hidden_states = self.dense(hidden_states)\n",
      "\n",
      "Running command: export CUDA_VISIBLE_DEVICES=0; torchrun --nproc_per_node 1 transformers/examples/pytorch/language-modeling/run_mlm.py --config_name roberta-base --tokenizer_name roberta-base --dataset_name wikitext --dataset_config_name wikitext-2-raw-v1 --do_train --max_seq_length 128 --per_device_train_batch_size 16 --fp16 True --bf16 False --optim adamw_hf --max_steps 20 --gradient_accumulation_steps 1 --gradient_checkpointing False --output_dir /tmp/bert/ --overwrite_output_dir yes --skip_memory_metrics False --half_precision_backend=apex --fp16_opt_level=O2 > log/log_roberta-biasgelu.txt 2>&1\n",
      "Output: \n",
      "Total samples / second\t: 69.1\n",
      "Per GPU memory (GB)\t: 3.8\n",
      "Per GPU TFLOPs\t\t: 6.7\n"
     ]
    }
   ],
   "source": [
    "roberta_8_biasgelu = hf(Exp('roberta-biasgelu', 'roberta-base', 16, fp16=True, seq_len=128, \n",
    "                    patch='patches/roberta_biasgelu.patch', kwargs={\"flags\": [\"--half_precision_backend=apex\", \"--fp16_opt_level=O2\"]}))\n",
    "sleep(5)"
   ]
  },
  {
   "cell_type": "code",
   "execution_count": 15,
   "metadata": {},
   "outputs": [
    {
     "name": "stdout",
     "output_type": "stream",
     "text": [
      "Running command: cd /home/ubuntu/pytorch-opt/transformers-benchmarks/transformers; git stash push -- src/transformers/models/; git apply patches/roberta_dropoutlayernorm.patch; git diff src/transformers/models/\n",
      "Output: Saved working directory and index state WIP on (no branch): ef42cb627 Fix TensorFlow pakage check (#26842)\n",
      "diff --git a/src/transformers/models/roberta/modeling_roberta.py b/src/transformers/models/roberta/modeling_roberta.py\n",
      "index 6d4cc991d..f25b39c07 100644\n",
      "--- a/src/transformers/models/roberta/modeling_roberta.py\n",
      "+++ b/src/transformers/models/roberta/modeling_roberta.py\n",
      "@@ -291,13 +291,12 @@ class RobertaSelfOutput(nn.Module):\n",
      "     def __init__(self, config):\n",
      "         super().__init__()\n",
      "         self.dense = nn.Linear(config.hidden_size, config.hidden_size)\n",
      "-        self.LayerNorm = nn.LayerNorm(config.hidden_size, eps=config.layer_norm_eps)\n",
      "-        self.dropout = nn.Dropout(config.hidden_dropout_prob)\n",
      "+        from epoi.ops.torchscript_ops import FusedDropoutAddLayerNorm as torchscript_ops_FusedDropoutAddLayerNorm\n",
      "+        self.dropout_add_layernorm = torchscript_ops_FusedDropoutAddLayerNorm(config.hidden_size, config.hidden_dropout_prob, eps=config.layer_norm_eps)\n",
      " \n",
      "     def forward(self, hidden_states: torch.Tensor, input_tensor: torch.Tensor) -> torch.Tensor:\n",
      "         hidden_states = self.dense(hidden_states)\n",
      "-        hidden_states = self.dropout(hidden_states)\n",
      "-        hidden_states = self.LayerNorm(hidden_states + input_tensor)\n",
      "+        hidden_states = self.dropout_add_layernorm(hidden_states, input_tensor)\n",
      "         return hidden_states\n",
      " \n",
      " \n",
      "@@ -372,13 +371,12 @@ class RobertaOutput(nn.Module):\n",
      "     def __init__(self, config):\n",
      "         super().__init__()\n",
      "         self.dense = nn.Linear(config.intermediate_size, config.hidden_size)\n",
      "-        self.LayerNorm = nn.LayerNorm(config.hidden_size, eps=config.layer_norm_eps)\n",
      "-        self.dropout = nn.Dropout(config.hidden_dropout_prob)\n",
      "+        from epoi.ops.torchscript_ops import FusedDropoutAddLayerNorm as torchscript_ops_FusedDropoutAddLayerNorm\n",
      "+        self.dropout_add_layernorm = torchscript_ops_FusedDropoutAddLayerNorm(config.hidden_size, config.hidden_dropout_prob, eps=config.layer_norm_eps)\n",
      " \n",
      "     def forward(self, hidden_states: torch.Tensor, input_tensor: torch.Tensor) -> torch.Tensor:\n",
      "         hidden_states = self.dense(hidden_states)\n",
      "-        hidden_states = self.dropout(hidden_states)\n",
      "-        hidden_states = self.LayerNorm(hidden_states + input_tensor)\n",
      "+        hidden_states = self.dropout_add_layernorm(hidden_states, input_tensor)\n",
      "         return hidden_states\n",
      " \n",
      " \n",
      "\n",
      "Running command: export CUDA_VISIBLE_DEVICES=0; torchrun --nproc_per_node 1 transformers/examples/pytorch/language-modeling/run_mlm.py --config_name roberta-base --tokenizer_name roberta-base --dataset_name wikitext --dataset_config_name wikitext-2-raw-v1 --do_train --max_seq_length 128 --per_device_train_batch_size 16 --fp16 True --bf16 False --optim adamw_hf --max_steps 20 --gradient_accumulation_steps 1 --gradient_checkpointing False --output_dir /tmp/bert/ --overwrite_output_dir yes --skip_memory_metrics False --half_precision_backend=apex --fp16_opt_level=O2 > log/log_roberta-dropoutlayernorm.txt 2>&1\n",
      "Output: \n",
      "Total samples / second\t: 53.5\n",
      "Per GPU memory (GB)\t: 3.8\n",
      "Per GPU TFLOPs\t\t: 5.2\n"
     ]
    }
   ],
   "source": [
    "roberta_8_dropoutlayernorm = hf(Exp('roberta-dropoutlayernorm', 'roberta-base', 16, fp16=True, seq_len=128, \n",
    "                    patch='patches/roberta_dropoutlayernorm.patch', kwargs={\"flags\": [\"--half_precision_backend=apex\", \"--fp16_opt_level=O2\"]}))\n",
    "sleep(5)"
   ]
  },
  {
   "cell_type": "code",
   "execution_count": 16,
   "metadata": {},
   "outputs": [
    {
     "name": "stdout",
     "output_type": "stream",
     "text": [
      "Running command: cd /home/ubuntu/pytorch-opt/transformers-benchmarks/transformers; git stash push -- src/transformers/models/; git apply patches/roberta_all.patch; git diff src/transformers/models/\n",
      "Output: Saved working directory and index state WIP on (no branch): ef42cb627 Fix TensorFlow pakage check (#26842)\n",
      "diff --git a/src/transformers/models/roberta/modeling_roberta.py b/src/transformers/models/roberta/modeling_roberta.py\n",
      "index 6d4cc991d..9f7f26906 100644\n",
      "--- a/src/transformers/models/roberta/modeling_roberta.py\n",
      "+++ b/src/transformers/models/roberta/modeling_roberta.py\n",
      "@@ -263,7 +263,8 @@ class RobertaSelfAttention(nn.Module):\n",
      "             attention_scores = attention_scores + attention_mask\n",
      " \n",
      "         # Normalize the attention scores to probabilities.\n",
      "-        attention_probs = nn.functional.softmax(attention_scores, dim=-1)\n",
      "+        from xformers.triton.softmax import softmax\n",
      "+        attention_probs = softmax(attention_scores)\n",
      " \n",
      "         # This is actually dropping out entire tokens to attend to, which might\n",
      "         # seem a bit unusual, but is taken from the original Transformer paper.\n",
      "@@ -291,13 +292,12 @@ class RobertaSelfOutput(nn.Module):\n",
      "     def __init__(self, config):\n",
      "         super().__init__()\n",
      "         self.dense = nn.Linear(config.hidden_size, config.hidden_size)\n",
      "-        self.LayerNorm = nn.LayerNorm(config.hidden_size, eps=config.layer_norm_eps)\n",
      "-        self.dropout = nn.Dropout(config.hidden_dropout_prob)\n",
      "+        from epoi.ops.torchscript_ops import FusedDropoutAddLayerNorm\n",
      "+        self.dropout_add_layernorm = FusedDropoutAddLayerNorm(config.hidden_size, config.hidden_dropout_prob, eps=config.layer_norm_eps)\n",
      " \n",
      "     def forward(self, hidden_states: torch.Tensor, input_tensor: torch.Tensor) -> torch.Tensor:\n",
      "         hidden_states = self.dense(hidden_states)\n",
      "-        hidden_states = self.dropout(hidden_states)\n",
      "-        hidden_states = self.LayerNorm(hidden_states + input_tensor)\n",
      "+        hidden_states = self.dropout_add_layernorm(hidden_states, input_tensor)\n",
      "         return hidden_states\n",
      " \n",
      " \n",
      "@@ -355,9 +355,11 @@ class RobertaAttention(nn.Module):\n",
      " class RobertaIntermediate(nn.Module):\n",
      "     def __init__(self, config):\n",
      "         super().__init__()\n",
      "-        self.dense = nn.Linear(config.hidden_size, config.intermediate_size)\n",
      "+        self.dense = nn.Linear(config.hidden_size, config.intermediate_size, bias=False)\n",
      "         if isinstance(config.hidden_act, str):\n",
      "-            self.intermediate_act_fn = ACT2FN[config.hidden_act]\n",
      "+            assert config.hidden_act == \"gelu\"\n",
      "+            from epoi.ops.torchscript_ops import FusedBiasGELU\n",
      "+            self.intermediate_act_fn = FusedBiasGELU(config.intermediate_size, prev_weight=self.dense.weight)\n",
      "         else:\n",
      "             self.intermediate_act_fn = config.hidden_act\n",
      " \n",
      "@@ -372,13 +374,12 @@ class RobertaOutput(nn.Module):\n",
      "     def __init__(self, config):\n",
      "         super().__init__()\n",
      "         self.dense = nn.Linear(config.intermediate_size, config.hidden_size)\n",
      "-        self.LayerNorm = nn.LayerNorm(config.hidden_size, eps=config.layer_norm_eps)\n",
      "-        self.dropout = nn.Dropout(config.hidden_dropout_prob)\n",
      "+        from epoi.ops.torchscript_ops import FusedDropoutAddLayerNorm\n",
      "+        self.dropout_add_layernorm = FusedDropoutAddLayerNorm(config.hidden_size, config.hidden_dropout_prob, eps=config.layer_norm_eps)\n",
      " \n",
      "     def forward(self, hidden_states: torch.Tensor, input_tensor: torch.Tensor) -> torch.Tensor:\n",
      "         hidden_states = self.dense(hidden_states)\n",
      "-        hidden_states = self.dropout(hidden_states)\n",
      "-        hidden_states = self.LayerNorm(hidden_states + input_tensor)\n",
      "+        hidden_states = self.dropout_add_layernorm(hidden_states, input_tensor)\n",
      "         return hidden_states\n",
      " \n",
      " \n",
      "\n",
      "Running command: export CUDA_VISIBLE_DEVICES=0; torchrun --nproc_per_node 1 transformers/examples/pytorch/language-modeling/run_mlm.py --config_name roberta-base --tokenizer_name roberta-base --dataset_name wikitext --dataset_config_name wikitext-2-raw-v1 --do_train --max_seq_length 128 --per_device_train_batch_size 16 --fp16 True --bf16 False --optim adamw_hf --max_steps 20 --gradient_accumulation_steps 1 --gradient_checkpointing False --output_dir /tmp/bert/ --overwrite_output_dir yes --skip_memory_metrics False --half_precision_backend=apex --fp16_opt_level=O2 > log/log_roberta-all.txt 2>&1\n",
      "Output: \n",
      "Total samples / second\t: 13.6\n",
      "Per GPU memory (GB)\t: 3.8\n",
      "Per GPU TFLOPs\t\t: 1.3\n"
     ]
    }
   ],
   "source": [
    "roberta_8_all = hf(Exp('roberta-all', 'roberta-base', 16, fp16=True, seq_len=128, \n",
    "                    patch='patches/roberta_all.patch', kwargs={\"flags\": [\"--half_precision_backend=apex\", \"--fp16_opt_level=O2\"]}))\n",
    "sleep(5)"
   ]
  },
  {
   "cell_type": "code",
   "execution_count": 17,
   "metadata": {},
   "outputs": [
    {
     "name": "stdout",
     "output_type": "stream",
     "text": [
      "Samples / sec: ['65.15', '15.26', '53.53', '69.12', '13.62']\n",
      "per GPU TFLOPS: ['6.30', '1.48', '5.18', '6.68', '1.32']\n",
      "per GPU memory (GB): ['4.52', '3.82', '3.80', '3.80', '3.83']\n"
     ]
    },
    {
     "data": {
      "image/png": "[encoded data removed]",
      "text/plain": [
       "<Figure size 900x250 with 3 Axes>"
      ]
     },
     "metadata": {},
     "output_type": "display_data"
    }
   ],
   "source": [
    "compare([roberta_8_vanilla, roberta_8_softmax, roberta_8_dropoutlayernorm, roberta_8_biasgelu, roberta_8_all], 'roberta')"
   ]
  },
  {
   "cell_type": "markdown",
   "metadata": {},
   "source": [
    "## GPT2"
   ]
  },
  {
   "cell_type": "code",
   "execution_count": 18,
   "metadata": {},
   "outputs": [
    {
     "data": {
      "application/vnd.jupyter.widget-view+json": {
       "model_id": "7efd6099b24345a68dc6f9e59c7f97db",
       "version_major": 2,
       "version_minor": 0
      },
      "text/plain": [
       "Downloading (…)lve/main/config.json:   0%|          | 0.00/665 [00:00<?, ?B/s]"
      ]
     },
     "metadata": {},
     "output_type": "display_data"
    },
    {
     "name": "stdout",
     "output_type": "stream",
     "text": [
      "Running command: export CUDA_VISIBLE_DEVICES=0; torchrun --nproc_per_node 1 transformers/examples/pytorch/language-modeling/run_clm.py --config_name gpt2 --tokenizer_name gpt2 --dataset_name wikitext --dataset_config_name wikitext-2-raw-v1 --do_train --per_device_train_batch_size 4 --fp16 True --bf16 False --optim adamw_hf --max_steps 20 --gradient_accumulation_steps 1 --gradient_checkpointing False --output_dir /tmp/gptneo/ --overwrite_output_dir yes --skip_memory_metrics False --half_precision_backend=apex > log/log_gpt2-vanilla.txt 2>&1\n",
      "Output: \n",
      "Total samples / second\t: 5.6\n",
      "Per GPU memory (GB)\t: 12.4\n",
      "Per GPU TFLOPs\t\t: 4.9\n"
     ]
    }
   ],
   "source": [
    "gpt2_4_vanilla = hf(Exp('gpt2-vanilla', 'gpt2', 4, fp16=True, \n",
    "                    kwargs={\"flags\": [\"--half_precision_backend=apex\", \"--fp16_opt_level=O2\"]}))\n",
    "sleep(5)"
   ]
  },
  {
   "cell_type": "code",
   "execution_count": 19,
   "metadata": {},
   "outputs": [
    {
     "name": "stdout",
     "output_type": "stream",
     "text": [
      "Running command: cd /home/ubuntu/pytorch-opt/transformers-benchmarks/transformers; git stash push -- src/transformers/models/; git apply patches/gpt2_softmax.patch; git diff src/transformers/models/\n",
      "Output: Saved working directory and index state WIP on (no branch): ef42cb627 Fix TensorFlow pakage check (#26842)\n",
      "diff --git a/src/transformers/models/gpt2/modeling_gpt2.py b/src/transformers/models/gpt2/modeling_gpt2.py\n",
      "index 838e7ca29..85c653bea 100644\n",
      "--- a/src/transformers/models/gpt2/modeling_gpt2.py\n",
      "+++ b/src/transformers/models/gpt2/modeling_gpt2.py\n",
      "@@ -205,7 +205,8 @@ class GPT2Attention(nn.Module):\n",
      "             # Apply the attention mask\n",
      "             attn_weights = attn_weights + attention_mask\n",
      " \n",
      "-        attn_weights = nn.functional.softmax(attn_weights, dim=-1)\n",
      "+        from xformers.triton.softmax import softmax\n",
      "+        attn_weights = softmax(attn_weights)\n",
      " \n",
      "         # Downcast (if necessary) back to V's dtype (if in mixed-precision) -- No-Op otherwise\n",
      "         attn_weights = attn_weights.type(value.dtype)\n",
      "@@ -255,7 +256,8 @@ class GPT2Attention(nn.Module):\n",
      "             # Apply the attention mask\n",
      "             attn_weights = attn_weights + attention_mask\n",
      " \n",
      "-        attn_weights = nn.functional.softmax(attn_weights, dim=-1)\n",
      "+        from xformers.triton.softmax import softmax\n",
      "+        attn_weights = softmax(attn_weights)\n",
      " \n",
      "         # Downcast (if necessary) back to V's dtype (if in mixed-precision) -- No-Op if otherwise\n",
      "         if attn_weights.dtype != torch.float32:\n",
      "\n",
      "Running command: export CUDA_VISIBLE_DEVICES=0; torchrun --nproc_per_node 1 transformers/examples/pytorch/language-modeling/run_clm.py --config_name gpt2 --tokenizer_name gpt2 --dataset_name wikitext --dataset_config_name wikitext-2-raw-v1 --do_train --per_device_train_batch_size 4 --fp16 True --bf16 False --optim adamw_hf --max_steps 20 --gradient_accumulation_steps 1 --gradient_checkpointing False --output_dir /tmp/gptneo/ --overwrite_output_dir yes --skip_memory_metrics False --half_precision_backend=apex --fp16_opt_level=O2 > log/log_gpt2-softmax.txt 2>&1\n",
      "Output: \n",
      "Total samples / second\t: 6.5\n",
      "Per GPU memory (GB)\t: 10.3\n",
      "Per GPU TFLOPs\t\t: 5.7\n"
     ]
    }
   ],
   "source": [
    "gpt2_4_softmax = hf(Exp('gpt2-softmax', 'gpt2', 4, fp16=True, patch='patches/gpt2_softmax.patch',\n",
    "                    kwargs={\"flags\": [\"--half_precision_backend=apex\", \"--fp16_opt_level=O2\"]}))\n",
    "sleep(5)"
   ]
  },
  {
   "cell_type": "code",
   "execution_count": 20,
   "metadata": {},
   "outputs": [
    {
     "name": "stdout",
     "output_type": "stream",
     "text": [
      "Running command: cd /home/ubuntu/pytorch-opt/transformers-benchmarks/transformers; git stash push -- src/transformers/models/; git apply patches/gpt2_attention.patch; git diff src/transformers/models/\n",
      "Output: Saved working directory and index state WIP on (no branch): ef42cb627 Fix TensorFlow pakage check (#26842)\n",
      "diff --git a/src/transformers/models/gpt2/modeling_gpt2.py b/src/transformers/models/gpt2/modeling_gpt2.py\n",
      "index 838e7ca29..1ab6e4024 100644\n",
      "--- a/src/transformers/models/gpt2/modeling_gpt2.py\n",
      "+++ b/src/transformers/models/gpt2/modeling_gpt2.py\n",
      "@@ -365,11 +365,13 @@ class GPT2Block(nn.Module):\n",
      "         inner_dim = config.n_inner if config.n_inner is not None else 4 * hidden_size\n",
      " \n",
      "         self.ln_1 = nn.LayerNorm(hidden_size, eps=config.layer_norm_epsilon)\n",
      "-        self.attn = GPT2Attention(config, layer_idx=layer_idx)\n",
      "+        from epoi.ops.xformers_attn import GPT2AttentionWithXF\n",
      "+        self.attn = GPT2AttentionWithXF(config, layer_idx=layer_idx)\n",
      "         self.ln_2 = nn.LayerNorm(hidden_size, eps=config.layer_norm_epsilon)\n",
      " \n",
      "         if config.add_cross_attention:\n",
      "-            self.crossattention = GPT2Attention(config, is_cross_attention=True, layer_idx=layer_idx)\n",
      "+            from epoi.ops.xformers_attn import GPT2AttentionWithXF\n",
      "+            self.crossattention = GPT2AttentionWithXF(config, is_cross_attention=True, layer_idx=layer_idx)\n",
      "             self.ln_cross_attn = nn.LayerNorm(hidden_size, eps=config.layer_norm_epsilon)\n",
      " \n",
      "         self.mlp = GPT2MLP(inner_dim, config)\n",
      "\n",
      "Running command: export CUDA_VISIBLE_DEVICES=0; torchrun --nproc_per_node 1 transformers/examples/pytorch/language-modeling/run_clm.py --config_name gpt2 --tokenizer_name gpt2 --dataset_name wikitext --dataset_config_name wikitext-2-raw-v1 --do_train --per_device_train_batch_size 4 --fp16 True --bf16 False --optim adamw_hf --max_steps 20 --gradient_accumulation_steps 1 --gradient_checkpointing False --output_dir /tmp/gptneo/ --overwrite_output_dir yes --skip_memory_metrics False --half_precision_backend=apex --fp16_opt_level=O2 > log/log_gpt2-attention.txt 2>&1\n",
      "Output: \n",
      "Total samples / second\t: 11.4\n",
      "Per GPU memory (GB)\t: 6.9\n",
      "Per GPU TFLOPs\t\t: 10.0\n"
     ]
    }
   ],
   "source": [
    "gpt2_4_attention = hf(Exp('gpt2-attention', 'gpt2', 4, fp16=True, patch='patches/gpt2_attention.patch',\n",
    "                    kwargs={\"flags\": [\"--half_precision_backend=apex\", \"--fp16_opt_level=O2\"]}))\n",
    "sleep(5)"
   ]
  },
  {
   "cell_type": "code",
   "execution_count": 21,
   "metadata": {},
   "outputs": [
    {
     "name": "stdout",
     "output_type": "stream",
     "text": [
      "Running command: cd /home/ubuntu/pytorch-opt/transformers-benchmarks/transformers; git stash push -- src/transformers/models/; git apply patches/gpt2_all.patch; git diff src/transformers/models/\n",
      "Output: Saved working directory and index state WIP on (no branch): ef42cb627 Fix TensorFlow pakage check (#26842)\n",
      "diff --git a/src/transformers/models/gpt2/modeling_gpt2.py b/src/transformers/models/gpt2/modeling_gpt2.py\n",
      "index 838e7ca29..7f880062b 100644\n",
      "--- a/src/transformers/models/gpt2/modeling_gpt2.py\n",
      "+++ b/src/transformers/models/gpt2/modeling_gpt2.py\n",
      "@@ -205,7 +205,8 @@ class GPT2Attention(nn.Module):\n",
      "             # Apply the attention mask\n",
      "             attn_weights = attn_weights + attention_mask\n",
      " \n",
      "-        attn_weights = nn.functional.softmax(attn_weights, dim=-1)\n",
      "+        from xformers.triton.softmax import softmax\n",
      "+        attn_weights = softmax(attn_weights)\n",
      " \n",
      "         # Downcast (if necessary) back to V's dtype (if in mixed-precision) -- No-Op otherwise\n",
      "         attn_weights = attn_weights.type(value.dtype)\n",
      "@@ -255,7 +256,8 @@ class GPT2Attention(nn.Module):\n",
      "             # Apply the attention mask\n",
      "             attn_weights = attn_weights + attention_mask\n",
      " \n",
      "-        attn_weights = nn.functional.softmax(attn_weights, dim=-1)\n",
      "+        from xformers.triton.softmax import softmax\n",
      "+        attn_weights = softmax(attn_weights)\n",
      " \n",
      "         # Downcast (if necessary) back to V's dtype (if in mixed-precision) -- No-Op if otherwise\n",
      "         if attn_weights.dtype != torch.float32:\n",
      "@@ -365,11 +367,13 @@ class GPT2Block(nn.Module):\n",
      "         inner_dim = config.n_inner if config.n_inner is not None else 4 * hidden_size\n",
      " \n",
      "         self.ln_1 = nn.LayerNorm(hidden_size, eps=config.layer_norm_epsilon)\n",
      "-        self.attn = GPT2Attention(config, layer_idx=layer_idx)\n",
      "+        from epoi.ops.xformers_attn import GPT2AttentionWithXF\n",
      "+        self.attn = GPT2AttentionWithXF(config, layer_idx=layer_idx)\n",
      "         self.ln_2 = nn.LayerNorm(hidden_size, eps=config.layer_norm_epsilon)\n",
      " \n",
      "         if config.add_cross_attention:\n",
      "-            self.crossattention = GPT2Attention(config, is_cross_attention=True, layer_idx=layer_idx)\n",
      "+            from epoi.ops.xformers_attn import GPT2AttentionWithXF\n",
      "+            self.crossattention = GPT2AttentionWithXF(config, is_cross_attention=True, layer_idx=layer_idx)\n",
      "             self.ln_cross_attn = nn.LayerNorm(hidden_size, eps=config.layer_norm_epsilon)\n",
      " \n",
      "         self.mlp = GPT2MLP(inner_dim, config)\n",
      "\n",
      "Running command: export CUDA_VISIBLE_DEVICES=0; torchrun --nproc_per_node 1 transformers/examples/pytorch/language-modeling/run_clm.py --config_name gpt2 --tokenizer_name gpt2 --dataset_name wikitext --dataset_config_name wikitext-2-raw-v1 --do_train --per_device_train_batch_size 4 --fp16 True --bf16 False --optim adamw_hf --max_steps 20 --gradient_accumulation_steps 1 --gradient_checkpointing False --output_dir /tmp/gptneo/ --overwrite_output_dir yes --skip_memory_metrics False --half_precision_backend=apex --fp16_opt_level=O2 > log/log_gpt2-all.txt 2>&1\n",
      "Output: \n",
      "Total samples / second\t: 11.2\n",
      "Per GPU memory (GB)\t: 6.9\n",
      "Per GPU TFLOPs\t\t: 9.8\n"
     ]
    }
   ],
   "source": [
    "gpt2_4_all = hf(Exp('gpt2-all', 'gpt2', 4, fp16=True, patch='patches/gpt2_all.patch',\n",
    "                    kwargs={\"flags\": [\"--half_precision_backend=apex\", \"--fp16_opt_level=O2\"]}))\n",
    "sleep(5)"
   ]
  },
  {
   "cell_type": "code",
   "execution_count": 22,
   "metadata": {},
   "outputs": [
    {
     "name": "stdout",
     "output_type": "stream",
     "text": [
      "Samples / sec: ['5.58', '6.48', '11.38', '11.23']\n",
      "per GPU TFLOPS: ['4.88', '5.67', '9.96', '9.83']\n",
      "per GPU memory (GB): ['12.44', '10.29', '6.87', '6.87']\n"
     ]
    },
    {
     "data": {
      "image/png": "[encoded data removed]",
      "text/plain": [
       "<Figure size 900x200 with 3 Axes>"
      ]
     },
     "metadata": {},
     "output_type": "display_data"
    }
   ],
   "source": [
    "compare([gpt2_4_vanilla, gpt2_4_softmax, gpt2_4_attention, gpt2_4_all], 'gpt2')"
   ]
  },
  {
   "cell_type": "markdown",
   "metadata": {},
   "source": [
    "## GPT-neo"
   ]
  },
  {
   "cell_type": "code",
   "execution_count": 23,
   "metadata": {},
   "outputs": [
    {
     "data": {
      "application/vnd.jupyter.widget-view+json": {
       "model_id": "4b0d0e3615474f008253f8f08d19c245",
       "version_major": 2,
       "version_minor": 0
      },
      "text/plain": [
       "Downloading (…)lve/main/config.json:   0%|          | 0.00/1.01k [00:00<?, ?B/s]"
      ]
     },
     "metadata": {},
     "output_type": "display_data"
    },
    {
     "name": "stdout",
     "output_type": "stream",
     "text": [
      "Running command: export CUDA_VISIBLE_DEVICES=0; torchrun --nproc_per_node 1 transformers/examples/pytorch/language-modeling/run_clm.py --config_name EleutherAI/gpt-neo-125m --tokenizer_name EleutherAI/gpt-neo-125m --dataset_name wikitext --dataset_config_name wikitext-2-raw-v1 --do_train --per_device_train_batch_size 1 --fp16 True --bf16 False --optim adamw_hf --max_steps 20 --gradient_accumulation_steps 1 --gradient_checkpointing False --output_dir /tmp/gptneo/ --overwrite_output_dir yes --skip_memory_metrics False --half_precision_backend=apex --fp16_opt_level=O2 > log/log_gptneo-vanilla.txt 2>&1\n",
      "Output: \n",
      "Total samples / second\t: 2.2\n",
      "Per GPU memory (GB)\t: 8.0\n",
      "Per GPU TFLOPs\t\t: 4.4\n"
     ]
    }
   ],
   "source": [
    "gptneo_4_vanilla = hf(Exp('gptneo-vanilla', 'EleutherAI/gpt-neo-125m', 1, fp16=True,\n",
    "                    kwargs={\"flags\": [\"--half_precision_backend=apex\", \"--fp16_opt_level=O2\"]}))\n",
    "sleep(5)"
   ]
  },
  {
   "cell_type": "code",
   "execution_count": 24,
   "metadata": {},
   "outputs": [
    {
     "name": "stdout",
     "output_type": "stream",
     "text": [
      "Running command: cd /home/ubuntu/pytorch-opt/transformers-benchmarks/transformers; git stash push -- src/transformers/models/; git apply patches/gpt_neo_all.patch; git diff src/transformers/models/\n",
      "Output: Saved working directory and index state WIP on (no branch): ef42cb627 Fix TensorFlow pakage check (#26842)\n",
      "\n",
      "Errors: error: patch failed: src/transformers/models/gpt_neo/modeling_gpt_neo.py:221\n",
      "error: src/transformers/models/gpt_neo/modeling_gpt_neo.py: patch does not apply\n",
      "\n",
      "Running command: export CUDA_VISIBLE_DEVICES=0; torchrun --nproc_per_node 1 transformers/examples/pytorch/language-modeling/run_clm.py --config_name EleutherAI/gpt-neo-125m --tokenizer_name EleutherAI/gpt-neo-125m --dataset_name wikitext --dataset_config_name wikitext-2-raw-v1 --do_train --per_device_train_batch_size 1 --fp16 True --bf16 False --optim adamw_hf --max_steps 20 --gradient_accumulation_steps 1 --gradient_checkpointing False --output_dir /tmp/gptneo/ --overwrite_output_dir yes --skip_memory_metrics False --half_precision_backend=apex --fp16_opt_level=O2 > log/log_gptneo-8.txt 2>&1\n",
      "Output: \n",
      "Total samples / second\t: 2.2\n",
      "Per GPU memory (GB)\t: 8.2\n",
      "Per GPU TFLOPs\t\t: 4.4\n"
     ]
    }
   ],
   "source": [
    "gptneo_4_all = hf(Exp('gptneo-all', 'EleutherAI/gpt-neo-125m', 1, fp16=True, patch=\"patches/gpt_neo_all.patch\",\n",
    "                    kwargs={\"flags\": [\"--half_precision_backend=apex\", \"--fp16_opt_level=O2\"]}))\n",
    "sleep(5)"
   ]
  },
  {
   "cell_type": "code",
   "execution_count": 25,
   "metadata": {},
   "outputs": [
    {
     "name": "stdout",
     "output_type": "stream",
     "text": [
      "Samples / sec: ['2.23', '2.20']\n",
      "per GPU TFLOPS: ['4.42', '4.35']\n",
      "per GPU memory (GB): ['8.00', '8.24']\n"
     ]
    },
    {
     "data": {
      "image/png": "[encoded data removed]",
      "text/plain": [
       "<Figure size 900x100 with 3 Axes>"
      ]
     },
     "metadata": {},
     "output_type": "display_data"
    }
   ],
   "source": [
    "compare([gptneo_4_vanilla, gptneo_4_all], 'gptneo')"
   ]
  },
  {
   "cell_type": "markdown",
   "metadata": {},
   "source": [
    "## Distilbert"
   ]
  },
  {
   "cell_type": "code",
   "execution_count": 26,
   "metadata": {},
   "outputs": [
    {
     "name": "stdout",
     "output_type": "stream",
     "text": [
      "Running command: export CUDA_VISIBLE_DEVICES=0; torchrun --nproc_per_node 1 transformers/examples/pytorch/language-modeling/run_mlm.py --config_name distilbert-base-uncased --tokenizer_name distilbert-base-uncased --dataset_name wikitext --dataset_config_name wikitext-2-raw-v1 --do_train --max_seq_length 512 --per_device_train_batch_size 4 --fp16 True --bf16 False --optim adamw_hf --max_steps 20 --gradient_accumulation_steps 1 --gradient_checkpointing False --output_dir /tmp/bert/ --overwrite_output_dir yes --skip_memory_metrics False  > log/log_distilbert-base.txt 2>&1\n",
      "Output: \n",
      "Total samples / second\t: 25.6\n",
      "Per GPU memory (GB)\t: 3.0\n",
      "Per GPU TFLOPs\t\t: 5.5\n"
     ]
    }
   ],
   "source": [
    "distilbert_8_vanilla = hf(Exp('distilbert-base', 'distilbert-base-uncased', 4, fp16=True, \n",
    "                    kwargs={\"flags\": [\"--fp16_opt_level=O2\"]}))\n",
    "sleep(5)"
   ]
  },
  {
   "cell_type": "code",
   "execution_count": 28,
   "metadata": {},
   "outputs": [
    {
     "name": "stdout",
     "output_type": "stream",
     "text": [
      "Running command: cd /home/ubuntu/pytorch-opt/transformers-benchmarks/transformers; git stash push -- src/transformers/models/; git apply patches/distilbert_all.patch; git diff src/transformers/models/\n",
      "Output: No local changes to save\n",
      "\n",
      "Errors: error: patch failed: src/transformers/models/distilbert/modeling_distilbert.py:223\n",
      "error: src/transformers/models/distilbert/modeling_distilbert.py: patch does not apply\n",
      "\n",
      "Running command: export CUDA_VISIBLE_DEVICES=0; torchrun --nproc_per_node 1 transformers/examples/pytorch/language-modeling/run_mlm.py --config_name distilbert-base-uncased --tokenizer_name distilbert-base-uncased --dataset_name wikitext --dataset_config_name wikitext-2-raw-v1 --do_train --max_seq_length 512 --per_device_train_batch_size 4 --fp16 True --bf16 False --optim adamw_hf --max_steps 20 --gradient_accumulation_steps 1 --gradient_checkpointing False --output_dir /tmp/bert/ --overwrite_output_dir yes --skip_memory_metrics False --fp16_opt_level=O2 > log/log_distilbert-6.txt 2>&1\n",
      "Output: \n",
      "Total samples / second\t: 25.8\n",
      "Per GPU memory (GB)\t: 3.0\n",
      "Per GPU TFLOPs\t\t: 5.6\n"
     ]
    }
   ],
   "source": [
    "distilbert_8_all = hf(Exp('distilbert-all', 'distilbert-base-uncased', 4, fp16=True, patch=\"patches/distilbert_all.patch\",\n",
    "                    kwargs={\"flags\": [\"--fp16_opt_level=O2\"]}))\n",
    "sleep(5)"
   ]
  },
  {
   "cell_type": "code",
   "execution_count": 29,
   "metadata": {},
   "outputs": [
    {
     "name": "stdout",
     "output_type": "stream",
     "text": [
      "Samples / sec: ['25.57', '25.82']\n",
      "per GPU TFLOPS: ['5.55', '5.60']\n",
      "per GPU memory (GB): ['3.00', '3.00']\n"
     ]
    },
    {
     "data": {
      "image/png": "[encoded data removed]",
      "text/plain": [
       "<Figure size 900x100 with 3 Axes>"
      ]
     },
     "metadata": {},
     "output_type": "display_data"
    }
   ],
   "source": [
    "compare([distilbert_8_vanilla, distilbert_8_all], 'distilbert')"
   ]
  },
  {
   "cell_type": "markdown",
   "metadata": {},
   "source": [
    "## Resnet"
   ]
  },
  {
   "cell_type": "code",
   "execution_count": 30,
   "metadata": {},
   "outputs": [
    {
     "data": {
      "application/vnd.jupyter.widget-view+json": {
       "model_id": "c1b94cf862d2418893b66e256fb59cec",
       "version_major": 2,
       "version_minor": 0
      },
      "text/plain": [
       "Downloading (…)lve/main/config.json:   0%|          | 0.00/69.6k [00:00<?, ?B/s]"
      ]
     },
     "metadata": {},
     "output_type": "display_data"
    },
    {
     "name": "stdout",
     "output_type": "stream",
     "text": [
      "Running command: export CUDA_VISIBLE_DEVICES=0; torchrun --nproc_per_node 1 transformers/examples/pytorch/image-classification/run_image_classification.py --model_name_or_path microsoft/resnet-50 --dataset_name beans --do_train --per_device_train_batch_size 8 --fp16 True --bf16 False --optim adamw_hf --max_steps 20 --gradient_accumulation_steps 1 --gradient_checkpointing False --output_dir /tmp/beans/ --overwrite_output_dir yes --skip_memory_metrics False --remove_unused_columns False --learning_rate 2e-5 --ignore_mismatched_sizes --fp16_opt_level=O2 > log/log_resnet-base.txt 2>&1\n",
      "Output: \n",
      "Total samples / second\t: 33.7\n",
      "Per GPU memory (GB)\t: 0.7\n",
      "Per GPU TFLOPs\t\t: 0.0\n"
     ]
    }
   ],
   "source": [
    "resnet_8_vanilla = hf(Exp('resnet-base', 'microsoft/resnet-50', 8, fp16=True,\n",
    "                    kwargs={\"flags\": [\"--fp16_opt_level=O2\"]}))\n",
    "sleep(5)"
   ]
  },
  {
   "cell_type": "code",
   "execution_count": 31,
   "metadata": {},
   "outputs": [
    {
     "name": "stdout",
     "output_type": "stream",
     "text": [
      "Running command: cd /home/ubuntu/pytorch-opt/transformers-benchmarks/transformers; git stash push -- src/transformers/models/; git apply patches/resnet_all.patch; git diff src/transformers/models/\n",
      "Output: No local changes to save\n",
      "diff --git a/src/transformers/models/resnet/modeling_resnet.py b/src/transformers/models/resnet/modeling_resnet.py\n",
      "index f2d207c21..29959c702 100644\n",
      "--- a/src/transformers/models/resnet/modeling_resnet.py\n",
      "+++ b/src/transformers/models/resnet/modeling_resnet.py\n",
      "@@ -68,6 +68,8 @@ class ResNetConvLayer(nn.Module):\n",
      "             in_channels, out_channels, kernel_size=kernel_size, stride=stride, padding=kernel_size // 2, bias=False\n",
      "         )\n",
      "         self.normalization = nn.BatchNorm2d(out_channels)\n",
      "+        from epoi.ops.torchscript_ops import FusedConvBN\n",
      "+        self.conv_batchnorm = FusedConvBN(in_channels, out_channels, kernel_size, stride)\n",
      "         self.activation = ACT2FN[activation] if activation is not None else nn.Identity()\n",
      " \n",
      "     def forward(self, input: Tensor) -> Tensor:\n",
      "@@ -111,6 +113,8 @@ class ResNetShortCut(nn.Module):\n",
      "         super().__init__()\n",
      "         self.convolution = nn.Conv2d(in_channels, out_channels, kernel_size=1, stride=stride, bias=False)\n",
      "         self.normalization = nn.BatchNorm2d(out_channels)\n",
      "+        from epoi.ops.torchscript_ops import FusedConvBN\n",
      "+        self.conv_batchnorm = FusedConvBN(in_channels, out_channels, 1, stride)\n",
      " \n",
      "     def forward(self, input: Tensor) -> Tensor:\n",
      "         hidden_state = self.convolution(input)\n",
      "\n",
      "Running command: export CUDA_VISIBLE_DEVICES=0; torchrun --nproc_per_node 1 transformers/examples/pytorch/image-classification/run_image_classification.py --model_name_or_path microsoft/resnet-50 --dataset_name beans --do_train --per_device_train_batch_size 8 --fp16 True --bf16 False --optim adamw_hf --max_steps 20 --gradient_accumulation_steps 1 --gradient_checkpointing False --output_dir /tmp/beans/ --overwrite_output_dir yes --skip_memory_metrics False --remove_unused_columns False --learning_rate 2e-5 --ignore_mismatched_sizes --fp16_opt_level=O2 > log/log_resnet-6.txt 2>&1\n",
      "Output: \n",
      "Total samples / second\t: 60.2\n",
      "Per GPU memory (GB)\t: 0.8\n",
      "Per GPU TFLOPs\t\t: 0.0\n"
     ]
    }
   ],
   "source": [
    "resnet_8_all = hf(Exp('resnet-all', 'microsoft/resnet-50', 8, fp16=True, patch='patches/resnet_all.patch',\n",
    "                    kwargs={\"flags\": [\"--fp16_opt_level=O2\"]}))\n",
    "sleep(5)"
   ]
  },
  {
   "cell_type": "code",
   "execution_count": 32,
   "metadata": {},
   "outputs": [
    {
     "name": "stdout",
     "output_type": "stream",
     "text": [
      "Samples / sec: ['33.69', '60.23']\n",
      "per GPU TFLOPS: ['0.00', '0.00']\n",
      "per GPU memory (GB): ['0.75', '0.84']\n"
     ]
    },
    {
     "data": {
      "image/png": "[encoded data removed]",
      "text/plain": [
       "<Figure size 900x100 with 3 Axes>"
      ]
     },
     "metadata": {},
     "output_type": "display_data"
    }
   ],
   "source": [
    "compare([resnet_8_vanilla, resnet_8_all], 'resnet')"
   ]
  },
  {
   "cell_type": "markdown",
   "metadata": {},
   "source": [
    "## T5"
   ]
  },
  {
   "cell_type": "code",
   "execution_count": 33,
   "metadata": {},
   "outputs": [
    {
     "data": {
      "application/vnd.jupyter.widget-view+json": {
       "model_id": "5d37b39d44e44e03a9806c2f00428522",
       "version_major": 2,
       "version_minor": 0
      },
      "text/plain": [
       "Downloading (…)lve/main/config.json:   0%|          | 0.00/1.21k [00:00<?, ?B/s]"
      ]
     },
     "metadata": {},
     "output_type": "display_data"
    },
    {
     "name": "stdout",
     "output_type": "stream",
     "text": [
      "Running command: export CUDA_VISIBLE_DEVICES=0;     torchrun --nproc_per_node 1 transformers/examples/pytorch/translation/run_translation.py     --model_name_or_path t5-base     --do_train     --source_lang en     --target_lang ro     --source_prefix \"translate English to Romanian: \"     --dataset_name wmt16     --dataset_config_name ro-en     --output_dir /tmp/tst-translation     --per_device_train_batch_size=8     --overwrite_output_dir     --predict_with_generate     --fp16 True --bf16 False     --optim adamw_hf --max_steps 20     --gradient_accumulation_steps 1     --gradient_checkpointing False     --output_dir /tmp/t5/ --overwrite_output_dir yes --skip_memory_metrics False --half_precision_backend=apex > log/log_t5-vanilla.txt 2>&1\n",
      "Output: \n",
      "Total samples / second\t: 28.9\n",
      "Per GPU memory (GB)\t: 5.2\n",
      "Per GPU TFLOPs\t\t: 0.0\n"
     ]
    }
   ],
   "source": [
    "t5_8_vanilla = hf(Exp('t5-vanilla', 't5-base', 8, fp16=True,\n",
    "                    kwargs={\"flags\": [\"--half_precision_backend=apex\", \"--fp16_opt_level=O2\"]}))\n",
    "sleep(5)"
   ]
  },
  {
   "cell_type": "code",
   "execution_count": 34,
   "metadata": {},
   "outputs": [
    {
     "name": "stdout",
     "output_type": "stream",
     "text": [
      "Running command: cd /home/ubuntu/pytorch-opt/transformers-benchmarks/transformers; git stash push -- src/transformers/models/; git apply patches/t5_attn.patch; git diff src/transformers/models/\n",
      "Output: Saved working directory and index state WIP on (no branch): ef42cb627 Fix TensorFlow pakage check (#26842)\n",
      "diff --git a/src/transformers/models/t5/modeling_t5.py b/src/transformers/models/t5/modeling_t5.py\n",
      "index 0e7237ea3..8276d17d4 100644\n",
      "--- a/src/transformers/models/t5/modeling_t5.py\n",
      "+++ b/src/transformers/models/t5/modeling_t5.py\n",
      "@@ -584,7 +584,8 @@ class T5Attention(nn.Module):\n",
      " class T5LayerSelfAttention(nn.Module):\n",
      "     def __init__(self, config, has_relative_attention_bias=False):\n",
      "         super().__init__()\n",
      "-        self.SelfAttention = T5Attention(config, has_relative_attention_bias=has_relative_attention_bias)\n",
      "+        from epoi.ops.xformers_attn import T5Attention\n",
      "+        self.SelfAttention = T5Attention(config, has_relative_attention_bias = has_relative_attention_bias, attn_op_name=\"cutlass\")\n",
      "         self.layer_norm = T5LayerNorm(config.d_model, eps=config.layer_norm_epsilon)\n",
      "         self.dropout = nn.Dropout(config.dropout_rate)\n",
      " \n",
      "@@ -616,7 +617,8 @@ class T5LayerSelfAttention(nn.Module):\n",
      " class T5LayerCrossAttention(nn.Module):\n",
      "     def __init__(self, config):\n",
      "         super().__init__()\n",
      "-        self.EncDecAttention = T5Attention(config, has_relative_attention_bias=False)\n",
      "+        from epoi.ops.xformers_attn import T5Attention\n",
      "+        self.EncDecAttention = T5Attention(config, has_relative_attention_bias = False, attn_op_name=\"cutlass\")\n",
      "         self.layer_norm = T5LayerNorm(config.d_model, eps=config.layer_norm_epsilon)\n",
      "         self.dropout = nn.Dropout(config.dropout_rate)\n",
      " \n",
      "\n",
      "Running command: export CUDA_VISIBLE_DEVICES=0;     torchrun --nproc_per_node 1 transformers/examples/pytorch/translation/run_translation.py     --model_name_or_path t5-base     --do_train     --source_lang en     --target_lang ro     --source_prefix \"translate English to Romanian: \"     --dataset_name wmt16     --dataset_config_name ro-en     --output_dir /tmp/tst-translation     --per_device_train_batch_size=8     --overwrite_output_dir     --predict_with_generate     --fp16 True --bf16 False     --optim adamw_hf --max_steps 20     --gradient_accumulation_steps 1     --gradient_checkpointing False     --output_dir /tmp/t5/ --overwrite_output_dir yes --skip_memory_metrics False --half_precision_backend=apex --fp16_opt_level=O2 > log/log_t5-attn.txt 2>&1\n",
      "Output: \n",
      "Total samples / second\t: 32.7\n",
      "Per GPU memory (GB)\t: 4.5\n",
      "Per GPU TFLOPs\t\t: 0.0\n"
     ]
    }
   ],
   "source": [
    "t5_8_attn = hf(Exp('t5-attn', 't5-base', 8, fp16=True, patch='patches/t5_attn.patch',\n",
    "                    kwargs={\"flags\": [\"--half_precision_backend=apex\", \"--fp16_opt_level=O2\"]}))\n",
    "sleep(5)"
   ]
  },
  {
   "cell_type": "code",
   "execution_count": 35,
   "metadata": {},
   "outputs": [
    {
     "name": "stdout",
     "output_type": "stream",
     "text": [
      "Running command: cd /home/ubuntu/pytorch-opt/transformers-benchmarks/transformers; git stash push -- src/transformers/models/; git apply patches/t5_softmax.patch; git diff src/transformers/models/\n",
      "Output: Saved working directory and index state WIP on (no branch): ef42cb627 Fix TensorFlow pakage check (#26842)\n",
      "diff --git a/src/transformers/models/t5/modeling_t5.py b/src/transformers/models/t5/modeling_t5.py\n",
      "index 0e7237ea3..a2c1ac133 100644\n",
      "--- a/src/transformers/models/t5/modeling_t5.py\n",
      "+++ b/src/transformers/models/t5/modeling_t5.py\n",
      "@@ -559,7 +559,8 @@ class T5Attention(nn.Module):\n",
      "             position_bias_masked = position_bias\n",
      " \n",
      "         scores += position_bias_masked\n",
      "-        attn_weights = nn.functional.softmax(scores.float(), dim=-1).type_as(\n",
      "+        from xformers.triton.softmax import softmax\n",
      "+        attn_weights = softmax(scores.float()).type_as(\n",
      "             scores\n",
      "         )  # (batch_size, n_heads, seq_length, key_length)\n",
      "         attn_weights = nn.functional.dropout(\n",
      "\n",
      "Running command: export CUDA_VISIBLE_DEVICES=0;     torchrun --nproc_per_node 1 transformers/examples/pytorch/translation/run_translation.py     --model_name_or_path t5-base     --do_train     --source_lang en     --target_lang ro     --source_prefix \"translate English to Romanian: \"     --dataset_name wmt16     --dataset_config_name ro-en     --output_dir /tmp/tst-translation     --per_device_train_batch_size=8     --overwrite_output_dir     --predict_with_generate     --fp16 True --bf16 False     --optim adamw_hf --max_steps 20     --gradient_accumulation_steps 1     --gradient_checkpointing False     --output_dir /tmp/t5/ --overwrite_output_dir yes --skip_memory_metrics False --half_precision_backend=apex --fp16_opt_level=O2 > log/log_t5-softmax.txt 2>&1\n",
      "Output: \n",
      "Total samples / second\t: 0.4\n",
      "Per GPU memory (GB)\t: 4.9\n",
      "Per GPU TFLOPs\t\t: 0.0\n"
     ]
    }
   ],
   "source": [
    "t5_8_softmax = hf(Exp('t5-softmax', 't5-base', 8, fp16=True, patch='patches/t5_softmax.patch',\n",
    "                    kwargs={\"flags\": [\"--half_precision_backend=apex\", \"--fp16_opt_level=O2\"]}))\n",
    "sleep(5)"
   ]
  },
  {
   "cell_type": "code",
   "execution_count": 36,
   "metadata": {},
   "outputs": [
    {
     "name": "stdout",
     "output_type": "stream",
     "text": [
      "Running command: cd /home/ubuntu/pytorch-opt/transformers-benchmarks/transformers; git stash push -- src/transformers/models/; git apply patches/t5_all.patch; git diff src/transformers/models/\n",
      "Output: Saved working directory and index state WIP on (no branch): ef42cb627 Fix TensorFlow pakage check (#26842)\n",
      "diff --git a/src/transformers/models/t5/modeling_t5.py b/src/transformers/models/t5/modeling_t5.py\n",
      "index 0e7237ea3..477f32241 100644\n",
      "--- a/src/transformers/models/t5/modeling_t5.py\n",
      "+++ b/src/transformers/models/t5/modeling_t5.py\n",
      "@@ -559,7 +559,8 @@ class T5Attention(nn.Module):\n",
      "             position_bias_masked = position_bias\n",
      " \n",
      "         scores += position_bias_masked\n",
      "-        attn_weights = nn.functional.softmax(scores.float(), dim=-1).type_as(\n",
      "+        from xformers.triton.softmax import softmax\n",
      "+        attn_weights = softmax(scores.float()).type_as(\n",
      "             scores\n",
      "         )  # (batch_size, n_heads, seq_length, key_length)\n",
      "         attn_weights = nn.functional.dropout(\n",
      "@@ -584,7 +585,8 @@ class T5Attention(nn.Module):\n",
      " class T5LayerSelfAttention(nn.Module):\n",
      "     def __init__(self, config, has_relative_attention_bias=False):\n",
      "         super().__init__()\n",
      "-        self.SelfAttention = T5Attention(config, has_relative_attention_bias=has_relative_attention_bias)\n",
      "+        from epoi.ops.xformers_attn import T5Attention\n",
      "+        self.SelfAttention = T5Attention(config, has_relative_attention_bias = has_relative_attention_bias, attn_op_name=\"cutlass\")\n",
      "         self.layer_norm = T5LayerNorm(config.d_model, eps=config.layer_norm_epsilon)\n",
      "         self.dropout = nn.Dropout(config.dropout_rate)\n",
      " \n",
      "@@ -616,7 +618,8 @@ class T5LayerSelfAttention(nn.Module):\n",
      " class T5LayerCrossAttention(nn.Module):\n",
      "     def __init__(self, config):\n",
      "         super().__init__()\n",
      "-        self.EncDecAttention = T5Attention(config, has_relative_attention_bias=False)\n",
      "+        from epoi.ops.xformers_attn import T5Attention\n",
      "+        self.EncDecAttention = T5Attention(config, has_relative_attention_bias = False, attn_op_name=\"cutlass\")\n",
      "         self.layer_norm = T5LayerNorm(config.d_model, eps=config.layer_norm_epsilon)\n",
      "         self.dropout = nn.Dropout(config.dropout_rate)\n",
      " \n",
      "\n",
      "Running command: export CUDA_VISIBLE_DEVICES=0;     torchrun --nproc_per_node 1 transformers/examples/pytorch/translation/run_translation.py     --model_name_or_path t5-base     --do_train     --source_lang en     --target_lang ro     --source_prefix \"translate English to Romanian: \"     --dataset_name wmt16     --dataset_config_name ro-en     --output_dir /tmp/tst-translation     --per_device_train_batch_size=8     --overwrite_output_dir     --predict_with_generate     --fp16 True --bf16 False     --optim adamw_hf --max_steps 20     --gradient_accumulation_steps 1     --gradient_checkpointing False     --output_dir /tmp/t5/ --overwrite_output_dir yes --skip_memory_metrics False --half_precision_backend=apex --fp16_opt_level=O2 > log/log_t5-all.txt 2>&1\n",
      "Output: \n",
      "Total samples / second\t: 32.0\n",
      "Per GPU memory (GB)\t: 4.5\n",
      "Per GPU TFLOPs\t\t: 0.0\n"
     ]
    }
   ],
   "source": [
    "t5_8_all = hf(Exp('t5-all', 't5-base', 8, fp16=True, patch='patches/t5_all.patch',\n",
    "                    kwargs={\"flags\": [\"--half_precision_backend=apex\", \"--fp16_opt_level=O2\"]}))\n",
    "sleep(5)"
   ]
  },
  {
   "cell_type": "code",
   "execution_count": 37,
   "metadata": {},
   "outputs": [
    {
     "name": "stdout",
     "output_type": "stream",
     "text": [
      "Samples / sec: ['28.93', '0.40', '32.65', '31.97']\n",
      "per GPU TFLOPS: ['0.00', '0.00', '0.00', '0.00']\n",
      "per GPU memory (GB): ['5.22', '4.86', '4.54', '4.54']\n"
     ]
    },
    {
     "data": {
      "image/png": "[encoded data removed]",
      "text/plain": [
       "<Figure size 900x200 with 3 Axes>"
      ]
     },
     "metadata": {},
     "output_type": "display_data"
    }
   ],
   "source": [
    "compare([t5_8_vanilla, t5_8_softmax, t5_8_attn, t5_8_all], 't5')"
   ]
  },
  {
   "cell_type": "markdown",
   "metadata": {},
   "source": [
    "## GroupVit"
   ]
  },
  {
   "cell_type": "code",
   "execution_count": 38,
   "metadata": {},
   "outputs": [
    {
     "data": {
      "application/vnd.jupyter.widget-view+json": {
       "model_id": "1c6a3ab25e7d423f81b3665c7730a68b",
       "version_major": 2,
       "version_minor": 0
      },
      "text/plain": [
       "Downloading (…)lve/main/config.json:   0%|          | 0.00/4.64k [00:00<?, ?B/s]"
      ]
     },
     "metadata": {},
     "output_type": "display_data"
    },
    {
     "name": "stdout",
     "output_type": "stream",
     "text": [
      "Running command: cd /home/ubuntu/pytorch-opt/transformers-benchmarks/transformers; git stash push -- src/transformers/models/; git apply patches/groupvit_base.patch; git diff src/transformers/models/\n",
      "Output: Saved working directory and index state WIP on (no branch): ef42cb627 Fix TensorFlow pakage check (#26842)\n",
      "diff --git a/src/transformers/models/groupvit/modeling_groupvit.py b/src/transformers/models/groupvit/modeling_groupvit.py\n",
      "index 59ff60ed7..7f3927ca0 100644\n",
      "--- a/src/transformers/models/groupvit/modeling_groupvit.py\n",
      "+++ b/src/transformers/models/groupvit/modeling_groupvit.py\n",
      "@@ -446,6 +446,7 @@ class GroupViTTextEmbeddings(nn.Module):\n",
      "         super().__init__()\n",
      "         embed_dim = config.hidden_size\n",
      " \n",
      "+        config.max_position_embeddings = 256\n",
      "         self.token_embedding = nn.Embedding(config.vocab_size, embed_dim)\n",
      "         self.position_embedding = nn.Embedding(config.max_position_embeddings, embed_dim)\n",
      " \n",
      "\n",
      "Running command: export CUDA_VISIBLE_DEVICES=0; torchrun --nproc_per_node 1 transformers/examples/pytorch/contrastive-image-text/run_clip.py --model_name_or_path nvidia/groupvit-gcc-yfcc --dataset_name ydshieh/coco_dataset_script --dataset_config_name=2017 --data_dir dummy_data --image_column image_path --caption_column caption --do_train --per_device_train_batch_size=8 --fp16 True --bf16 False --optim adamw_hf --max_steps 20 --gradient_accumulation_steps 1 --gradient_checkpointing False --output_dir ./groupvit --remove_unused_columns=False --learning_rate=\"5e-5\" --warmup_steps=\"0\" --weight_decay 0.1 --overwrite_output_dir --skip_memory_metrics False --half_precision_backend=apex > log/log_groupvit-vanilla.txt 2>&1\n",
      "Output: \n",
      "Total samples / second\t: 28.0\n",
      "Per GPU memory (GB)\t: 1.5\n",
      "Per GPU TFLOPs\t\t: 0.0\n"
     ]
    }
   ],
   "source": [
    "groupvit_8_vanilla = hf(Exp('groupvit-vanilla', 'nvidia/groupvit-gcc-yfcc', 8, fp16=True, patch='patches/groupvit_base.patch',\n",
    "                    kwargs={\"flags\": [\"--half_precision_backend=apex\", \"--fp16_opt_level=O2\"]}))\n",
    "sleep(5)"
   ]
  },
  {
   "cell_type": "code",
   "execution_count": 39,
   "metadata": {},
   "outputs": [
    {
     "name": "stdout",
     "output_type": "stream",
     "text": [
      "Running command: cd /home/ubuntu/pytorch-opt/transformers-benchmarks/transformers; git stash push -- src/transformers/models/; git apply patches/groupvit_all.patch; git diff src/transformers/models/\n",
      "Output: Saved working directory and index state WIP on (no branch): ef42cb627 Fix TensorFlow pakage check (#26842)\n",
      "diff --git a/src/transformers/models/groupvit/modeling_groupvit.py b/src/transformers/models/groupvit/modeling_groupvit.py\n",
      "index 59ff60ed7..7f3927ca0 100644\n",
      "--- a/src/transformers/models/groupvit/modeling_groupvit.py\n",
      "+++ b/src/transformers/models/groupvit/modeling_groupvit.py\n",
      "@@ -446,6 +446,7 @@ class GroupViTTextEmbeddings(nn.Module):\n",
      "         super().__init__()\n",
      "         embed_dim = config.hidden_size\n",
      " \n",
      "+        config.max_position_embeddings = 256\n",
      "         self.token_embedding = nn.Embedding(config.vocab_size, embed_dim)\n",
      "         self.position_embedding = nn.Embedding(config.max_position_embeddings, embed_dim)\n",
      " \n",
      "\n",
      "Running command: export CUDA_VISIBLE_DEVICES=0; torchrun --nproc_per_node 1 transformers/examples/pytorch/contrastive-image-text/run_clip.py --model_name_or_path nvidia/groupvit-gcc-yfcc --dataset_name ydshieh/coco_dataset_script --dataset_config_name=2017 --data_dir dummy_data --image_column image_path --caption_column caption --do_train --per_device_train_batch_size=8 --fp16 True --bf16 False --optim adamw_hf --max_steps 20 --gradient_accumulation_steps 1 --gradient_checkpointing False --output_dir ./groupvit --remove_unused_columns=False --learning_rate=\"5e-5\" --warmup_steps=\"0\" --weight_decay 0.1 --overwrite_output_dir --skip_memory_metrics False --half_precision_backend=apex --fp16_opt_level=O2 > log/log_groupvit-all.txt 2>&1\n",
      "Output: \n",
      "Total samples / second\t: 35.0\n",
      "Per GPU memory (GB)\t: 1.2\n",
      "Per GPU TFLOPs\t\t: 0.0\n"
     ]
    }
   ],
   "source": [
    "groupvit_8_all = hf(Exp('groupvit-all', 'nvidia/groupvit-gcc-yfcc', 8, fp16=True, patch='patches/groupvit_all.patch',\n",
    "                    kwargs={\"flags\": [\"--half_precision_backend=apex\", \"--fp16_opt_level=O2\"]}))\n",
    "sleep(5)"
   ]
  },
  {
   "cell_type": "code",
   "execution_count": 40,
   "metadata": {},
   "outputs": [
    {
     "name": "stdout",
     "output_type": "stream",
     "text": [
      "Samples / sec: ['27.96', '35.03']\n",
      "per GPU TFLOPS: ['0.00', '0.00']\n",
      "per GPU memory (GB): ['1.46', '1.18']\n"
     ]
    },
    {
     "data": {
      "image/png": "[encoded data removed]",
      "text/plain": [
       "<Figure size 900x100 with 3 Axes>"
      ]
     },
     "metadata": {},
     "output_type": "display_data"
    }
   ],
   "source": [
    "compare([groupvit_8_vanilla, groupvit_8_all], 'groupvit')"
   ]
  },
  {
   "cell_type": "markdown",
   "metadata": {},
   "source": [
    "## Albert"
   ]
  },
  {
   "cell_type": "code",
   "execution_count": 42,
   "metadata": {},
   "outputs": [
    {
     "name": "stdout",
     "output_type": "stream",
     "text": [
      "Running command: cd /home/ubuntu/pytorch-opt/transformers-benchmarks/transformers; git stash push -- src/transformers/models/; git apply patches/albert_vanilla.patch; git diff src/transformers/models/\n",
      "Output: Saved working directory and index state WIP on (no branch): ef42cb627 Fix TensorFlow pakage check (#26842)\n",
      "diff --git a/src/transformers/models/albert/modeling_albert.py b/src/transformers/models/albert/modeling_albert.py\n",
      "index fe6b37732..532193e09 100755\n",
      "--- a/src/transformers/models/albert/modeling_albert.py\n",
      "+++ b/src/transformers/models/albert/modeling_albert.py\n",
      "@@ -382,6 +382,7 @@ class AlbertLayer(nn.Module):\n",
      "         self.attention = AlbertAttention(config)\n",
      "         self.ffn = nn.Linear(config.hidden_size, config.intermediate_size)\n",
      "         self.ffn_output = nn.Linear(config.intermediate_size, config.hidden_size)\n",
      "+        config.hidden_act = \"gelu\"\n",
      "         self.activation = ACT2FN[config.hidden_act]\n",
      "         self.dropout = nn.Dropout(config.hidden_dropout_prob)\n",
      " \n",
      "\n",
      "Running command: export CUDA_VISIBLE_DEVICES=0; torchrun --nproc_per_node 1 transformers/examples/pytorch/language-modeling/run_mlm.py --config_name albert-base-v2 --tokenizer_name albert-base-v2 --dataset_name wikitext --dataset_config_name wikitext-2-raw-v1 --do_train --max_seq_length 512 --per_device_train_batch_size 8 --fp16 True --bf16 False --optim adamw_hf --max_steps 20 --gradient_accumulation_steps 1 --gradient_checkpointing False --output_dir /tmp/bert/ --overwrite_output_dir yes --skip_memory_metrics False --half_precision_backend=apex --fp16_opt_level=O2 > log/log_albert-base.txt 2>&1\n",
      "Output: \n",
      "Total samples / second\t: 36.4\n",
      "Per GPU memory (GB)\t: 3.2\n",
      "Per GPU TFLOPs\t\t: 13.1\n"
     ]
    }
   ],
   "source": [
    "albert_8_vanilla = hf(Exp('albert-base', 'albert-base-v2', 8, fp16=True, patch='patches/albert_vanilla.patch',\n",
    "                    kwargs={\"flags\": [\"--half_precision_backend=apex\", \"--fp16_opt_level=O2\"]}))\n",
    "sleep(5)"
   ]
  },
  {
   "cell_type": "code",
   "execution_count": 43,
   "metadata": {},
   "outputs": [
    {
     "name": "stdout",
     "output_type": "stream",
     "text": [
      "Running command: cd /home/ubuntu/pytorch-opt/transformers-benchmarks/transformers; git stash push -- src/transformers/models/; git apply patches/albert_softmax.patch; git diff src/transformers/models/\n",
      "Output: Saved working directory and index state WIP on (no branch): ef42cb627 Fix TensorFlow pakage check (#26842)\n",
      "diff --git a/src/transformers/models/albert/modeling_albert.py b/src/transformers/models/albert/modeling_albert.py\n",
      "index fe6b37732..294fe3dbc 100755\n",
      "--- a/src/transformers/models/albert/modeling_albert.py\n",
      "+++ b/src/transformers/models/albert/modeling_albert.py\n",
      "@@ -352,7 +352,8 @@ class AlbertAttention(nn.Module):\n",
      "                 attention_scores = attention_scores + relative_position_scores_query + relative_position_scores_key\n",
      " \n",
      "         # Normalize the attention scores to probabilities.\n",
      "-        attention_probs = nn.functional.softmax(attention_scores, dim=-1)\n",
      "+        from xformers.triton.softmax import softmax as softmax_softmax\n",
      "+        attention_probs = softmax_softmax(attention_scores)\n",
      " \n",
      "         # This is actually dropping out entire tokens to attend to, which might\n",
      "         # seem a bit unusual, but is taken from the original Transformer paper.\n",
      "@@ -382,6 +383,7 @@ class AlbertLayer(nn.Module):\n",
      "         self.attention = AlbertAttention(config)\n",
      "         self.ffn = nn.Linear(config.hidden_size, config.intermediate_size)\n",
      "         self.ffn_output = nn.Linear(config.intermediate_size, config.hidden_size)\n",
      "+        config.hidden_act = \"gelu\"\n",
      "         self.activation = ACT2FN[config.hidden_act]\n",
      "         self.dropout = nn.Dropout(config.hidden_dropout_prob)\n",
      " \n",
      "\n",
      "Running command: export CUDA_VISIBLE_DEVICES=0; torchrun --nproc_per_node 1 transformers/examples/pytorch/language-modeling/run_mlm.py --config_name albert-base-v2 --tokenizer_name albert-base-v2 --dataset_name wikitext --dataset_config_name wikitext-2-raw-v1 --do_train --max_seq_length 512 --per_device_train_batch_size 8 --fp16 True --bf16 False --optim adamw_hf --max_steps 20 --gradient_accumulation_steps 1 --gradient_checkpointing False --output_dir /tmp/bert/ --overwrite_output_dir yes --skip_memory_metrics False --half_precision_backend=apex --fp16_opt_level=O2 > log/log_albert-softmax.txt 2>&1\n",
      "Output: \n",
      "Total samples / second\t: 19.5\n",
      "Per GPU memory (GB)\t: 3.4\n",
      "Per GPU TFLOPs\t\t: 7.0\n"
     ]
    }
   ],
   "source": [
    "albert_8_softmax = hf(Exp('albert-softmax', 'albert-base-v2', 8, fp16=True, patch='patches/albert_softmax.patch',\n",
    "                    kwargs={\"flags\": [\"--half_precision_backend=apex\", \"--fp16_opt_level=O2\"]}))\n",
    "sleep(5)"
   ]
  },
  {
   "cell_type": "code",
   "execution_count": 44,
   "metadata": {},
   "outputs": [
    {
     "name": "stdout",
     "output_type": "stream",
     "text": [
      "Samples / sec: ['36.42', '19.52']\n",
      "per GPU TFLOPS: ['13.14', '7.04']\n",
      "per GPU memory (GB): ['3.24', '3.44']\n"
     ]
    },
    {
     "data": {
      "image/png": "[encoded data removed]",
      "text/plain": [
       "<Figure size 900x100 with 3 Axes>"
      ]
     },
     "metadata": {},
     "output_type": "display_data"
    }
   ],
   "source": [
    "compare([albert_8_vanilla, albert_8_softmax], 'albert')"
   ]
  },
  {
   "cell_type": "markdown",
   "metadata": {},
   "source": [
    "python examples/pytorch/translation/run_translation.py --model_name_or_path t5-small --do_train --source_lang en --target_lang ro --source_prefix \"translate English to Romanian: \" --dataset_name wmt16 --dataset_config_name ro-en --output_dir /tmp/tst-translation --per_device_train_batch_size=4 --per_device_eval_batch_size=4 --overwrite_output_dir --predict_with_generate"
   ]
  }
 ],
 "metadata": {
  "kernelspec": {
   "display_name": "venv",
   "language": "python",
   "name": "python3"
  },
  "language_info": {
   "codemirror_mode": {
    "name": "ipython",
    "version": 3
   },
   "file_extension": ".py",
   "mimetype": "text/x-python",
   "name": "python",
   "nbconvert_exporter": "python",
   "pygments_lexer": "ipython3",
   "version": "3.8.10"
  },
  "orig_nbformat": 4
 },
 "nbformat": 4,
 "nbformat_minor": 2
}
